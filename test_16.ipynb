{
 "cells": [
  {
   "cell_type": "code",
   "execution_count": 3,
   "id": "180284d8",
   "metadata": {},
   "outputs": [],
   "source": [
    "!pip install -q tensorflow\n",
    "!pip install -q keras\n",
    "\n",
    "\n",
    "## Imports libs\n",
    "import os\n",
    "from tensorflow import keras"
   ]
  },
  {
   "cell_type": "code",
   "execution_count": 4,
   "id": "91d2cab8",
   "metadata": {},
   "outputs": [],
   "source": [
    " !pip install -q tensorflow-model-optimization"
   ]
  },
  {
   "cell_type": "code",
   "execution_count": 5,
   "id": "b4fa8b77",
   "metadata": {},
   "outputs": [],
   "source": [
    "import tempfile\n",
    "import os\n",
    "\n",
    "import tensorflow as tf\n",
    "\n",
    "from tensorflow import keras"
   ]
  },
  {
   "cell_type": "code",
   "execution_count": 6,
   "id": "8d85fd11",
   "metadata": {},
   "outputs": [],
   "source": [
    "import tensorflow as tf\n",
    "import numpy as np\n",
    "import tensorflow_model_optimization as tfmot\n",
    "\n",
    "import tempfile"
   ]
  },
  {
   "cell_type": "code",
   "execution_count": 7,
   "id": "876bc7bf",
   "metadata": {},
   "outputs": [
    {
     "name": "stdout",
     "output_type": "stream",
     "text": [
      "Downloading data from https://storage.googleapis.com/tensorflow/tf-keras-datasets/mnist.npz\n",
      "11490434/11490434 [==============================] - 20s 2us/step\n"
     ]
    }
   ],
   "source": [
    "mnist = tf.keras.datasets.mnist\n",
    "\n",
    "(x_train, y_train), (x_test, y_test) = mnist.load_data()\n",
    "x_train, x_test = x_train / 255.0, x_test / 255.0"
   ]
  },
  {
   "cell_type": "code",
   "execution_count": 8,
   "id": "9ff6d36a",
   "metadata": {},
   "outputs": [],
   "source": [
    "model = tf.keras.models.Sequential([\n",
    "  tf.keras.layers.Flatten(input_shape=(28, 28)),\n",
    "  tf.keras.layers.Dense(128, activation='relu'),\n",
    "  tf.keras.layers.Dropout(0.2),\n",
    "  tf.keras.layers.Dense(10)\n",
    "])"
   ]
  },
  {
   "cell_type": "code",
   "execution_count": 9,
   "id": "3602657c",
   "metadata": {},
   "outputs": [
    {
     "data": {
      "text/plain": [
       "array([[-0.43116766,  0.5402535 ,  0.26441848, -0.4140973 ,  1.0823874 ,\n",
       "        -0.45243567,  0.03512071, -0.4403268 ,  0.04705022, -0.6849816 ],\n",
       "       [ 0.22195515, -0.04587393, -0.20216313,  0.14818212,  0.60397184,\n",
       "        -0.08518319,  0.12413112, -0.1952838 , -0.04832411, -0.7816735 ],\n",
       "       [-0.1542314 , -0.11559113,  0.37524018, -0.32541758,  0.7883997 ,\n",
       "        -0.12234486, -0.15441649,  0.21845536, -0.3125838 , -0.29370585],\n",
       "       [-0.11225729, -0.01885283,  0.340935  , -0.48047185,  1.0820787 ,\n",
       "        -0.32883644, -0.13865918, -0.29841262,  0.612512  , -0.57825315],\n",
       "       [ 0.1487271 , -0.44147128, -0.28964263, -0.485534  ,  1.0199002 ,\n",
       "         0.05450195, -0.43723258, -0.13251638,  0.34853297, -0.38052154],\n",
       "       [-0.43370423,  0.01121098, -0.29318357, -0.1297619 ,  0.80190986,\n",
       "        -0.507075  ,  0.11461974, -0.74790245,  0.2810626 , -0.23056838],\n",
       "       [-0.03923579,  0.4881413 ,  0.24682164, -0.48476818,  0.4794929 ,\n",
       "        -0.19003911,  0.15913063, -0.11855963, -0.08505484, -0.46661502],\n",
       "       [ 0.12438618, -0.25223708,  0.67347264, -0.415498  ,  0.8921793 ,\n",
       "         0.16028816, -0.00699602, -0.16821992,  0.35848874, -1.0250124 ],\n",
       "       [-0.0232112 ,  0.03676045, -0.06946357, -0.535324  ,  0.7513303 ,\n",
       "        -0.19189465,  0.11828774, -0.57443154, -0.19579475, -0.5410658 ],\n",
       "       [ 0.31533107, -0.29382738,  0.3729559 , -0.669816  ,  0.7548842 ,\n",
       "        -0.20319596, -0.09923335, -0.1367892 ,  0.195878  , -0.32451296]],\n",
       "      dtype=float32)"
      ]
     },
     "execution_count": 9,
     "metadata": {},
     "output_type": "execute_result"
    }
   ],
   "source": [
    "predictions = model(x_train[:10]).numpy()\n",
    "predictions"
   ]
  },
  {
   "cell_type": "code",
   "execution_count": 10,
   "id": "86e29255",
   "metadata": {},
   "outputs": [
    {
     "data": {
      "text/plain": [
       "array([[0.05827646, 0.15394868, 0.11683753, 0.0592798 , 0.26474133,\n",
       "        0.05705012, 0.09289655, 0.05774514, 0.0940114 , 0.04521298],\n",
       "       [0.12129389, 0.0927945 , 0.07936823, 0.11266777, 0.17772423,\n",
       "        0.08921757, 0.10999033, 0.07991611, 0.09256741, 0.0444599 ],\n",
       "       [0.08094525, 0.08413421, 0.13744783, 0.0682097 , 0.20776425,\n",
       "        0.0835679 , 0.08093027, 0.11750252, 0.06909073, 0.07040741],\n",
       "       [0.07712664, 0.08467779, 0.12134541, 0.05336922, 0.2546232 ,\n",
       "        0.06210768, 0.075117  , 0.06402628, 0.15920906, 0.04839773],\n",
       "       [0.10927706, 0.06056324, 0.07049323, 0.05795259, 0.26114076,\n",
       "        0.09945063, 0.06082049, 0.08248719, 0.1334454 , 0.06436937],\n",
       "       [0.06593765, 0.10288633, 0.07588585, 0.08935811, 0.22685787,\n",
       "        0.06127297, 0.11409525, 0.04815916, 0.13475744, 0.08078938],\n",
       "       [0.091269  , 0.1546537 , 0.12149446, 0.05845627, 0.15332195,\n",
       "        0.07849289, 0.11129427, 0.08430891, 0.08718151, 0.05952713],\n",
       "       [0.09619066, 0.06600358, 0.16657051, 0.05606144, 0.20729136,\n",
       "        0.09970683, 0.08434791, 0.07178862, 0.12156326, 0.03047582],\n",
       "       [0.10208519, 0.10839471, 0.09747104, 0.06117233, 0.22148374,\n",
       "        0.08623915, 0.11760207, 0.0588262 , 0.08590346, 0.0608221 ],\n",
       "       [0.12762254, 0.0694022 , 0.13519278, 0.04765225, 0.1980719 ,\n",
       "        0.07598606, 0.08431102, 0.08120336, 0.11325295, 0.06730489]],\n",
       "      dtype=float32)"
      ]
     },
     "execution_count": 10,
     "metadata": {},
     "output_type": "execute_result"
    }
   ],
   "source": [
    "tf.nn.softmax(predictions).numpy()"
   ]
  },
  {
   "cell_type": "code",
   "execution_count": 11,
   "id": "0cbebe04",
   "metadata": {},
   "outputs": [],
   "source": [
    "loss_fn = tf.keras.losses.SparseCategoricalCrossentropy(from_logits=True)"
   ]
  },
  {
   "cell_type": "code",
   "execution_count": 13,
   "id": "fe218bb0",
   "metadata": {},
   "outputs": [
    {
     "data": {
      "text/plain": [
       "2.2924235"
      ]
     },
     "execution_count": 13,
     "metadata": {},
     "output_type": "execute_result"
    }
   ],
   "source": [
    "loss_fn(y_train[:10], predictions).numpy()"
   ]
  },
  {
   "cell_type": "code",
   "execution_count": 14,
   "id": "a5238ffa",
   "metadata": {},
   "outputs": [],
   "source": [
    "model.compile(optimizer='adam',\n",
    "              loss=loss_fn,\n",
    "              metrics=['accuracy'])"
   ]
  },
  {
   "cell_type": "code",
   "execution_count": 14,
   "id": "e64a5cc8",
   "metadata": {},
   "outputs": [
    {
     "name": "stdout",
     "output_type": "stream",
     "text": [
      "Epoch 1/5\n",
      "1875/1875 [==============================] - 2s 987us/step - loss: 0.3017 - accuracy: 0.9125\n",
      "Epoch 2/5\n",
      "1875/1875 [==============================] - 2s 1ms/step - loss: 0.1492 - accuracy: 0.9557\n",
      "Epoch 3/5\n",
      "1875/1875 [==============================] - 2s 922us/step - loss: 0.1133 - accuracy: 0.9647\n",
      "Epoch 4/5\n",
      "1875/1875 [==============================] - 2s 906us/step - loss: 0.0919 - accuracy: 0.9715\n",
      "Epoch 5/5\n",
      "1875/1875 [==============================] - 2s 895us/step - loss: 0.0795 - accuracy: 0.9752\n"
     ]
    },
    {
     "data": {
      "text/plain": [
       "<keras.callbacks.History at 0x27ed6aeb910>"
      ]
     },
     "execution_count": 14,
     "metadata": {},
     "output_type": "execute_result"
    }
   ],
   "source": [
    "model.fit(x_train, y_train, epochs=5)"
   ]
  },
  {
   "cell_type": "code",
   "execution_count": 15,
   "id": "e0847bf1",
   "metadata": {},
   "outputs": [
    {
     "name": "stdout",
     "output_type": "stream",
     "text": [
      "313/313 - 0s - loss: 0.0768 - accuracy: 0.9752 - 334ms/epoch - 1ms/step\n"
     ]
    },
    {
     "data": {
      "text/plain": [
       "[0.07683579623699188, 0.9751999974250793]"
      ]
     },
     "execution_count": 15,
     "metadata": {},
     "output_type": "execute_result"
    }
   ],
   "source": [
    "model.evaluate(x_test,  y_test, verbose=2)"
   ]
  },
  {
   "cell_type": "code",
   "execution_count": 15,
   "id": "a8128054",
   "metadata": {},
   "outputs": [
    {
     "name": "stdout",
     "output_type": "stream",
     "text": [
      "Defaulting to user installation because normal site-packages is not writeable\n",
      "Requirement already satisfied: pydot in c:\\users\\meskat jahan\\appdata\\roaming\\python\\python39\\site-packages (1.4.2)\n",
      "Requirement already satisfied: pyparsing>=2.1.4 in c:\\programdata\\anaconda3\\lib\\site-packages (from pydot) (3.0.4)\n",
      "Defaulting to user installation because normal site-packages is not writeable\n",
      "Requirement already satisfied: graphviz in c:\\users\\meskat jahan\\appdata\\roaming\\python\\python39\\site-packages (0.20.1)\n",
      "Defaulting to user installation because normal site-packages is not writeable\n",
      "Requirement already satisfied: visualkeras in c:\\users\\meskat jahan\\appdata\\roaming\\python\\python39\\site-packages (0.0.2)\n",
      "Requirement already satisfied: pillow>=6.2.0 in c:\\programdata\\anaconda3\\lib\\site-packages (from visualkeras) (9.0.1)\n",
      "Requirement already satisfied: numpy>=1.18.1 in c:\\programdata\\anaconda3\\lib\\site-packages (from visualkeras) (1.21.5)\n",
      "Requirement already satisfied: aggdraw>=1.3.11 in c:\\users\\meskat jahan\\appdata\\roaming\\python\\python39\\site-packages (from visualkeras) (1.3.15)\n"
     ]
    }
   ],
   "source": [
    "!pip install pydot\n",
    "!pip install graphviz\n",
    "!pip install visualkeras\n",
    "\n",
    "import numpy as np\n",
    "import pandas as pd\n",
    "import matplotlib.pyplot as plt\n",
    "import matplotlib.image as mpimg\n",
    "import seaborn as sns\n",
    "import os\n",
    "import visualkeras\n",
    "from sklearn.model_selection              import train_test_split\n",
    "from sklearn.metrics                      import confusion_matrix\n",
    "from tensorflow.keras.utils               import to_categorical\n",
    "from tensorflow.keras.models              import Sequential\n",
    "from tensorflow.keras.layers              import (Dense, Dropout, Flatten, Conv2D, MaxPool2D,\n",
    "                                                  Lambda, BatchNormalization)\n",
    "from tensorflow.keras.optimizers          import RMSprop\n",
    "from tensorflow.keras.preprocessing.image import ImageDataGenerator\n",
    "from tensorflow.keras.callbacks           import ReduceLROnPlateau\n",
    "from tensorflow.keras.optimizers          import RMSprop, Adam, SGD\n",
    "from tensorflow.keras.utils               import plot_model"
   ]
  },
  {
   "cell_type": "code",
   "execution_count": 17,
   "id": "e2479a95",
   "metadata": {},
   "outputs": [
    {
     "name": "stdout",
     "output_type": "stream",
     "text": [
      "You must install pydot (`pip install pydot`) and install graphviz (see instructions at https://graphviz.gitlab.io/download/) for plot_model to work.\n"
     ]
    }
   ],
   "source": [
    "plot_model(model, show_shapes=True, show_layer_names=True)"
   ]
  },
  {
   "cell_type": "code",
   "execution_count": 2,
   "id": "1a3189a7",
   "metadata": {},
   "outputs": [
    {
     "ename": "ModuleNotFoundError",
     "evalue": "No module named 'torch'",
     "output_type": "error",
     "traceback": [
      "\u001b[1;31m---------------------------------------------------------------------------\u001b[0m",
      "\u001b[1;31mModuleNotFoundError\u001b[0m                       Traceback (most recent call last)",
      "Input \u001b[1;32mIn [2]\u001b[0m, in \u001b[0;36m<cell line: 2>\u001b[1;34m()\u001b[0m\n\u001b[0;32m      1\u001b[0m \u001b[38;5;28;01mfrom\u001b[39;00m \u001b[38;5;21;01m__future__\u001b[39;00m \u001b[38;5;28;01mimport\u001b[39;00m print_function\n\u001b[1;32m----> 2\u001b[0m \u001b[38;5;28;01mimport\u001b[39;00m \u001b[38;5;21;01mtorch\u001b[39;00m\n\u001b[0;32m      3\u001b[0m x \u001b[38;5;241m=\u001b[39m torch\u001b[38;5;241m.\u001b[39mrand(\u001b[38;5;241m5\u001b[39m, \u001b[38;5;241m3\u001b[39m)\n\u001b[0;32m      4\u001b[0m \u001b[38;5;28mprint\u001b[39m(x)\n",
      "\u001b[1;31mModuleNotFoundError\u001b[0m: No module named 'torch'"
     ]
    }
   ],
   "source": []
  },
  {
   "cell_type": "code",
   "execution_count": 18,
   "id": "54712f61",
   "metadata": {},
   "outputs": [
    {
     "data": {
      "image/png": "[encoded data removed]",
      "text/plain": [
       "<PIL.Image.Image image mode=RGBA size=196x89 at 0x12490060A90>"
      ]
     },
     "execution_count": 18,
     "metadata": {},
     "output_type": "execute_result"
    }
   ],
   "source": [
    "visualkeras.layered_view(model, legend=True)"
   ]
  },
  {
   "cell_type": "code",
   "execution_count": 19,
   "id": "ba6dfc37",
   "metadata": {},
   "outputs": [
    {
     "name": "stdout",
     "output_type": "stream",
     "text": [
      "Epoch 1/50\n",
      "844/844 [==============================] - 8s 9ms/step - loss: 0.3583 - accuracy: 0.8958 - val_loss: 0.1521 - val_accuracy: 0.9578\n",
      "Epoch 2/50\n",
      "844/844 [==============================] - 6s 7ms/step - loss: 0.1777 - accuracy: 0.9488 - val_loss: 0.1074 - val_accuracy: 0.9693\n",
      "Epoch 3/50\n",
      "844/844 [==============================] - 8s 10ms/step - loss: 0.1319 - accuracy: 0.9612 - val_loss: 0.0881 - val_accuracy: 0.9748\n",
      "Epoch 4/50\n",
      "844/844 [==============================] - 8s 10ms/step - loss: 0.1066 - accuracy: 0.9684 - val_loss: 0.0802 - val_accuracy: 0.9767\n",
      "Epoch 5/50\n",
      "844/844 [==============================] - 8s 9ms/step - loss: 0.0897 - accuracy: 0.9729 - val_loss: 0.0777 - val_accuracy: 0.9783\n",
      "Epoch 6/50\n",
      "844/844 [==============================] - 8s 9ms/step - loss: 0.0781 - accuracy: 0.9763 - val_loss: 0.0708 - val_accuracy: 0.9792\n",
      "Epoch 7/50\n",
      "844/844 [==============================] - 6s 7ms/step - loss: 0.0686 - accuracy: 0.9793 - val_loss: 0.0694 - val_accuracy: 0.9803\n",
      "Epoch 8/50\n",
      "844/844 [==============================] - 8s 9ms/step - loss: 0.0599 - accuracy: 0.9817 - val_loss: 0.0678 - val_accuracy: 0.9803\n",
      "Epoch 9/50\n",
      "844/844 [==============================] - 8s 9ms/step - loss: 0.0549 - accuracy: 0.9821 - val_loss: 0.0679 - val_accuracy: 0.9817\n",
      "Epoch 10/50\n",
      "844/844 [==============================] - 8s 10ms/step - loss: 0.0502 - accuracy: 0.9839 - val_loss: 0.0683 - val_accuracy: 0.9813\n",
      "Epoch 11/50\n",
      "844/844 [==============================] - 8s 9ms/step - loss: 0.0469 - accuracy: 0.9850 - val_loss: 0.0654 - val_accuracy: 0.9812\n",
      "Epoch 12/50\n",
      "844/844 [==============================] - 8s 10ms/step - loss: 0.0446 - accuracy: 0.9856 - val_loss: 0.0630 - val_accuracy: 0.9822\n",
      "Epoch 13/50\n",
      "844/844 [==============================] - 8s 10ms/step - loss: 0.0393 - accuracy: 0.9867 - val_loss: 0.0635 - val_accuracy: 0.9835\n",
      "Epoch 14/50\n",
      "844/844 [==============================] - 8s 10ms/step - loss: 0.0375 - accuracy: 0.9878 - val_loss: 0.0675 - val_accuracy: 0.9818\n",
      "Epoch 15/50\n",
      "844/844 [==============================] - 9s 11ms/step - loss: 0.0337 - accuracy: 0.9888 - val_loss: 0.0733 - val_accuracy: 0.9820\n",
      "Epoch 16/50\n",
      "844/844 [==============================] - 10s 12ms/step - loss: 0.0324 - accuracy: 0.9894 - val_loss: 0.0671 - val_accuracy: 0.9825\n",
      "Epoch 17/50\n",
      "844/844 [==============================] - 8s 10ms/step - loss: 0.0323 - accuracy: 0.9897 - val_loss: 0.0696 - val_accuracy: 0.9810\n",
      "Epoch 18/50\n",
      "844/844 [==============================] - 8s 9ms/step - loss: 0.0289 - accuracy: 0.9903 - val_loss: 0.0760 - val_accuracy: 0.9795\n",
      "Epoch 19/50\n",
      "844/844 [==============================] - 10s 11ms/step - loss: 0.0281 - accuracy: 0.9907 - val_loss: 0.0729 - val_accuracy: 0.9830\n",
      "Epoch 20/50\n",
      "844/844 [==============================] - 8s 9ms/step - loss: 0.0265 - accuracy: 0.9912 - val_loss: 0.0751 - val_accuracy: 0.9808\n",
      "Epoch 21/50\n",
      "844/844 [==============================] - 11s 13ms/step - loss: 0.0254 - accuracy: 0.9913 - val_loss: 0.0717 - val_accuracy: 0.9822\n",
      "Epoch 22/50\n",
      "844/844 [==============================] - 11s 13ms/step - loss: 0.0231 - accuracy: 0.9923 - val_loss: 0.0721 - val_accuracy: 0.9842\n",
      "Epoch 23/50\n",
      "844/844 [==============================] - 8s 10ms/step - loss: 0.0231 - accuracy: 0.9923 - val_loss: 0.0783 - val_accuracy: 0.9812\n",
      "Epoch 24/50\n",
      "844/844 [==============================] - 8s 9ms/step - loss: 0.0221 - accuracy: 0.9929 - val_loss: 0.0830 - val_accuracy: 0.9812\n",
      "Epoch 25/50\n",
      "844/844 [==============================] - 8s 9ms/step - loss: 0.0210 - accuracy: 0.9927 - val_loss: 0.0797 - val_accuracy: 0.9818\n",
      "Epoch 26/50\n",
      "844/844 [==============================] - 6s 7ms/step - loss: 0.0204 - accuracy: 0.9931 - val_loss: 0.0812 - val_accuracy: 0.9817\n",
      "Epoch 27/50\n",
      "844/844 [==============================] - 10s 12ms/step - loss: 0.0199 - accuracy: 0.9929 - val_loss: 0.0783 - val_accuracy: 0.9837\n",
      "Epoch 28/50\n",
      "844/844 [==============================] - 8s 9ms/step - loss: 0.0193 - accuracy: 0.9933 - val_loss: 0.0756 - val_accuracy: 0.9828\n",
      "Epoch 29/50\n",
      "844/844 [==============================] - 8s 10ms/step - loss: 0.0185 - accuracy: 0.9936 - val_loss: 0.0764 - val_accuracy: 0.9822\n",
      "Epoch 30/50\n",
      "844/844 [==============================] - 6s 7ms/step - loss: 0.0173 - accuracy: 0.9941 - val_loss: 0.0789 - val_accuracy: 0.9808\n",
      "Epoch 31/50\n",
      "844/844 [==============================] - 7s 9ms/step - loss: 0.0198 - accuracy: 0.9929 - val_loss: 0.0761 - val_accuracy: 0.9835\n",
      "Epoch 32/50\n",
      "844/844 [==============================] - 6s 7ms/step - loss: 0.0183 - accuracy: 0.9936 - val_loss: 0.0800 - val_accuracy: 0.9815\n",
      "Epoch 33/50\n",
      "844/844 [==============================] - 8s 9ms/step - loss: 0.0165 - accuracy: 0.9948 - val_loss: 0.0855 - val_accuracy: 0.9823\n",
      "Epoch 34/50\n",
      "844/844 [==============================] - 8s 10ms/step - loss: 0.0174 - accuracy: 0.9942 - val_loss: 0.0899 - val_accuracy: 0.9828\n",
      "Epoch 35/50\n",
      "844/844 [==============================] - 9s 11ms/step - loss: 0.0166 - accuracy: 0.9944 - val_loss: 0.0856 - val_accuracy: 0.9808\n",
      "Epoch 36/50\n",
      "844/844 [==============================] - 8s 10ms/step - loss: 0.0161 - accuracy: 0.9942 - val_loss: 0.0796 - val_accuracy: 0.9833\n",
      "Epoch 37/50\n",
      "844/844 [==============================] - 8s 9ms/step - loss: 0.0166 - accuracy: 0.9943 - val_loss: 0.0843 - val_accuracy: 0.9832\n",
      "Epoch 38/50\n",
      "844/844 [==============================] - 9s 10ms/step - loss: 0.0157 - accuracy: 0.9945 - val_loss: 0.0875 - val_accuracy: 0.9825\n",
      "Epoch 39/50\n",
      "844/844 [==============================] - 9s 10ms/step - loss: 0.0137 - accuracy: 0.9953 - val_loss: 0.0884 - val_accuracy: 0.9805\n",
      "Epoch 40/50\n",
      "844/844 [==============================] - 7s 9ms/step - loss: 0.0143 - accuracy: 0.9952 - val_loss: 0.0821 - val_accuracy: 0.9828\n",
      "Epoch 41/50\n",
      "844/844 [==============================] - 8s 9ms/step - loss: 0.0146 - accuracy: 0.9950 - val_loss: 0.0809 - val_accuracy: 0.9835\n",
      "Epoch 42/50\n",
      "844/844 [==============================] - 6s 7ms/step - loss: 0.0139 - accuracy: 0.9953 - val_loss: 0.0860 - val_accuracy: 0.9810\n",
      "Epoch 43/50\n",
      "844/844 [==============================] - 10s 12ms/step - loss: 0.0138 - accuracy: 0.9950 - val_loss: 0.0941 - val_accuracy: 0.9817\n",
      "Epoch 44/50\n",
      "844/844 [==============================] - 6s 7ms/step - loss: 0.0143 - accuracy: 0.9951 - val_loss: 0.0859 - val_accuracy: 0.9832\n",
      "Epoch 45/50\n",
      "844/844 [==============================] - 8s 9ms/step - loss: 0.0157 - accuracy: 0.9947 - val_loss: 0.0928 - val_accuracy: 0.9828\n",
      "Epoch 46/50\n",
      "844/844 [==============================] - 6s 7ms/step - loss: 0.0130 - accuracy: 0.9955 - val_loss: 0.0917 - val_accuracy: 0.9813\n",
      "Epoch 47/50\n",
      "844/844 [==============================] - 8s 9ms/step - loss: 0.0132 - accuracy: 0.9956 - val_loss: 0.0984 - val_accuracy: 0.9815\n",
      "Epoch 48/50\n",
      "844/844 [==============================] - 8s 9ms/step - loss: 0.0134 - accuracy: 0.9953 - val_loss: 0.0988 - val_accuracy: 0.9820\n",
      "Epoch 49/50\n",
      "844/844 [==============================] - 9s 10ms/step - loss: 0.0131 - accuracy: 0.9954 - val_loss: 0.0984 - val_accuracy: 0.9812\n",
      "Epoch 50/50\n",
      "844/844 [==============================] - 7s 9ms/step - loss: 0.0140 - accuracy: 0.9953 - val_loss: 0.0943 - val_accuracy: 0.9817\n"
     ]
    },
    {
     "data": {
      "image/png": "[encoded data removed]",
      "text/plain": [
       "<Figure size 432x288 with 1 Axes>"
      ]
     },
     "metadata": {
      "needs_background": "light"
     },
     "output_type": "display_data"
    }
   ],
   "source": [
    "import keras\n",
    "from matplotlib import pyplot as plt\n",
    "history = model.fit(x_train, y_train,validation_split = 0.1, epochs=50, batch_size=64)\n",
    "plt.plot(history.history['accuracy'])\n",
    "plt.plot(history.history['val_accuracy'])\n",
    "plt.title('model accuracy')\n",
    "plt.ylabel('accuracy')\n",
    "plt.xlabel('epoch')\n",
    "plt.legend(['train', 'val'], loc='upper left')\n",
    "plt.show()"
   ]
  },
  {
   "cell_type": "code",
   "execution_count": 20,
   "id": "86e4533d",
   "metadata": {},
   "outputs": [
    {
     "data": {
      "image/png": "[encoded data removed]",
      "text/plain": [
       "<Figure size 432x288 with 1 Axes>"
      ]
     },
     "metadata": {
      "needs_background": "light"
     },
     "output_type": "display_data"
    }
   ],
   "source": [
    "plt.plot(history.history['loss'])\n",
    "plt.plot(history.history['val_loss'])\n",
    "plt.title('model loss')\n",
    "plt.ylabel('loss')\n",
    "plt.xlabel('epoch')\n",
    "plt.legend(['train', 'val'], loc='upper left')\n",
    "plt.show()"
   ]
  },
  {
   "cell_type": "code",
   "execution_count": 21,
   "id": "25cc626a",
   "metadata": {},
   "outputs": [
    {
     "name": "stdout",
     "output_type": "stream",
     "text": [
      "Model: \"sequential\"\n",
      "_________________________________________________________________\n",
      " Layer (type)                Output Shape              Param #   \n",
      "=================================================================\n",
      " quantize_layer (QuantizeLay  (None, 28, 28)           3         \n",
      " er)                                                             \n",
      "                                                                 \n",
      " quant_flatten (QuantizeWrap  (None, 784)              1         \n",
      " perV2)                                                          \n",
      "                                                                 \n",
      " quant_dense (QuantizeWrappe  (None, 128)              100485    \n",
      " rV2)                                                            \n",
      "                                                                 \n",
      " quant_dropout (QuantizeWrap  (None, 128)              1         \n",
      " perV2)                                                          \n",
      "                                                                 \n",
      " quant_dense_1 (QuantizeWrap  (None, 10)               1295      \n",
      " perV2)                                                          \n",
      "                                                                 \n",
      "=================================================================\n",
      "Total params: 101,785\n",
      "Trainable params: 101,770\n",
      "Non-trainable params: 15\n",
      "_________________________________________________________________\n"
     ]
    }
   ],
   "source": [
    "base_model=model\n",
    "\n",
    "quant_aware_model = tfmot.quantization.keras.quantize_model(base_model)\n",
    "quant_aware_model.summary()"
   ]
  },
  {
   "cell_type": "code",
   "execution_count": 22,
   "id": "fff08bf6",
   "metadata": {},
   "outputs": [],
   "source": [
    "LastValueQuantizer = tfmot.quantization.keras.quantizers.LastValueQuantizer\n",
    "MovingAverageQuantizer = tfmot.quantization.keras.quantizers.MovingAverageQuantizer\n",
    "\n",
    "class DefaultDenseQuantizeConfig(tfmot.quantization.keras.QuantizeConfig):\n",
    "    # Configure how to quantize weights.\n",
    "    def get_weights_and_quantizers(self, layer):\n",
    "      return [(layer.kernel, LastValueQuantizer(num_bits=8, symmetric=True, narrow_range=False, per_axis=False))]\n",
    "\n",
    "    # Configure how to quantize activations.\n",
    "    def get_activations_and_quantizers(self, layer):\n",
    "      return [(layer.activation, MovingAverageQuantizer(num_bits=8, symmetric=False, narrow_range=False, per_axis=False))]\n",
    "\n",
    "    def set_quantize_weights(self, layer, quantize_weights):\n",
    "      # Add this line for each item returned in `get_weights_and_quantizers`\n",
    "      # , in the same order\n",
    "      layer.kernel = quantize_weights[0]\n",
    "\n",
    "    def set_quantize_activations(self, layer, quantize_activations):\n",
    "      # Add this line for each item returned in `get_activations_and_quantizers`\n",
    "      # , in the same order.\n",
    "      layer.activation = quantize_activations[0]\n",
    "\n",
    "    # Configure how to quantize outputs (may be equivalent to activations).\n",
    "    def get_output_quantizers(self, layer):\n",
    "      return []\n",
    "\n",
    "    def get_config(self):\n",
    "      return {}"
   ]
  },
  {
   "cell_type": "code",
   "execution_count": 23,
   "id": "6ebe48a9",
   "metadata": {},
   "outputs": [],
   "source": [
    "quantize_annotate_layer = tfmot.quantization.keras.quantize_annotate_layer\n",
    "quantize_annotate_model = tfmot.quantization.keras.quantize_annotate_model\n",
    "quantize_scope = tfmot.quantization.keras.quantize_scope\n",
    "\n",
    "class FixedRangeQuantizer(tfmot.quantization.keras.quantizers.Quantizer):\n",
    "  \"\"\"Quantizer which forces outputs to be between -1 and 1.\"\"\"\n",
    "\n",
    "  def build(self, tensor_shape, name, layer):\n",
    "    # Not needed. No new TensorFlow variables needed.\n",
    "    return {}\n",
    "\n",
    "  def __call__(self, inputs, training, weights, **kwargs):\n",
    "    return tf.keras.backend.clip(inputs, -1.0, 1.0)\n",
    "\n",
    "  def get_config(self):\n",
    "    # Not needed. No __init__ parameters to serialize.\n",
    "    return {}\n",
    "\n",
    "\n",
    "class ModifiedDenseQuantizeConfig(DefaultDenseQuantizeConfig):\n",
    "    # Configure weights to quantize with 4-bit instead of 8-bits.\n",
    "    def get_weights_and_quantizers(self, layer):\n",
    "      # Use custom algorithm defined in `FixedRangeQuantizer` instead of default Quantizer.\n",
    "      return [(layer.kernel, FixedRangeQuantizer())]"
   ]
  },
  {
   "cell_type": "code",
   "execution_count": 24,
   "id": "518685e6",
   "metadata": {},
   "outputs": [
    {
     "name": "stdout",
     "output_type": "stream",
     "text": [
      "Model: \"sequential_1\"\n",
      "_________________________________________________________________\n",
      " Layer (type)                Output Shape              Param #   \n",
      "=================================================================\n",
      " quantize_layer_1 (QuantizeL  (None, 28, 28)           3         \n",
      " ayer)                                                           \n",
      "                                                                 \n",
      " quant_reshape (QuantizeWrap  (None, 28, 28, 1)        1         \n",
      " perV2)                                                          \n",
      "                                                                 \n",
      " quant_conv2d (QuantizeWrapp  (None, 26, 26, 12)       147       \n",
      " erV2)                                                           \n",
      "                                                                 \n",
      " quant_max_pooling2d (Quanti  (None, 13, 13, 12)       1         \n",
      " zeWrapperV2)                                                    \n",
      "                                                                 \n",
      " quant_flatten_1 (QuantizeWr  (None, 2028)             1         \n",
      " apperV2)                                                        \n",
      "                                                                 \n",
      " quant_dense_2 (QuantizeWrap  (None, 129)              261744    \n",
      " perV2)                                                          \n",
      "                                                                 \n",
      "=================================================================\n",
      "Total params: 261,897\n",
      "Trainable params: 261,861\n",
      "Non-trainable params: 36\n",
      "_________________________________________________________________\n"
     ]
    }
   ],
   "source": [
    "model = quantize_annotate_model(tf.keras.Sequential([\n",
    "   \n",
    "    keras.layers.InputLayer(input_shape=(28, 28)),\n",
    "    \n",
    "    keras.layers.Reshape(target_shape=(28, 28, 1)),\n",
    "    keras.layers.Conv2D(filters=12, kernel_size=(3, 3), activation='relu'),\n",
    "    keras.layers.MaxPooling2D(pool_size=(2, 2)),\n",
    "    tf.keras.layers.Flatten(),\n",
    "    # Pass in modified `QuantizeConfig` to modify this `Dense` layer.\n",
    "   quantize_annotate_layer(tf.keras.layers.Dense(129,), ModifiedDenseQuantizeConfig()),\n",
    "    \n",
    "]))\n",
    "\n",
    "# `quantize_apply` requires mentioning `ModifiedDenseQuantizeConfig` with `quantize_scope`:\n",
    "with quantize_scope(\n",
    "  {'ModifiedDenseQuantizeConfig': ModifiedDenseQuantizeConfig}):\n",
    "  # Use `quantize_apply` to actually make the model quantization aware.\n",
    "  quant_aware_model = tfmot.quantization.keras.quantize_apply(model)\n",
    "\n",
    "quant_aware_model.summary()"
   ]
  },
  {
   "cell_type": "code",
   "execution_count": 25,
   "id": "a2fc02cc",
   "metadata": {},
   "outputs": [
    {
     "name": "stdout",
     "output_type": "stream",
     "text": [
      "Model: \"sequential_1\"\n",
      "_________________________________________________________________\n",
      " Layer (type)                Output Shape              Param #   \n",
      "=================================================================\n",
      " quantize_layer_1 (QuantizeL  (None, 28, 28)           3         \n",
      " ayer)                                                           \n",
      "                                                                 \n",
      " quant_reshape (QuantizeWrap  (None, 28, 28, 1)        1         \n",
      " perV2)                                                          \n",
      "                                                                 \n",
      " quant_conv2d (QuantizeWrapp  (None, 26, 26, 12)       147       \n",
      " erV2)                                                           \n",
      "                                                                 \n",
      " quant_max_pooling2d (Quanti  (None, 13, 13, 12)       1         \n",
      " zeWrapperV2)                                                    \n",
      "                                                                 \n",
      " quant_flatten_1 (QuantizeWr  (None, 2028)             1         \n",
      " apperV2)                                                        \n",
      "                                                                 \n",
      " quant_dense_2 (QuantizeWrap  (None, 129)              261744    \n",
      " perV2)                                                          \n",
      "                                                                 \n",
      "=================================================================\n",
      "Total params: 261,897\n",
      "Trainable params: 261,861\n",
      "Non-trainable params: 36\n",
      "_________________________________________________________________\n"
     ]
    }
   ],
   "source": [
    "# `quantize_model` requires a recompile.\n",
    "quant_aware_model.compile(optimizer='adam',\n",
    "              loss=tf.keras.losses.SparseCategoricalCrossentropy(from_logits=True),\n",
    "              metrics=['accuracy'])\n",
    "\n",
    "quant_aware_model.summary()"
   ]
  },
  {
   "cell_type": "code",
   "execution_count": 27,
   "id": "270a75b5",
   "metadata": {},
   "outputs": [
    {
     "name": "stdout",
     "output_type": "stream",
     "text": [
      "Epoch 1/5\n",
      "938/938 [==============================] - 9s 6ms/step - loss: 0.4342 - accuracy: 0.8900\n",
      "Epoch 2/5\n",
      "938/938 [==============================] - 8s 8ms/step - loss: 0.1607 - accuracy: 0.9534\n",
      "Epoch 3/5\n",
      "938/938 [==============================] - 14s 15ms/step - loss: 0.1158 - accuracy: 0.9666\n",
      "Epoch 4/5\n",
      "938/938 [==============================] - 8s 9ms/step - loss: 0.0925 - accuracy: 0.9733\n",
      "Epoch 5/5\n",
      "938/938 [==============================] - 6s 6ms/step - loss: 0.0775 - accuracy: 0.9778\n"
     ]
    },
    {
     "data": {
      "text/plain": [
       "<keras.callbacks.History at 0x12496701e80>"
      ]
     },
     "execution_count": 27,
     "metadata": {},
     "output_type": "execute_result"
    }
   ],
   "source": [
    "quant_aware_model.fit(x_train, y_train,  batch_size=64, epochs=5)"
   ]
  },
  {
   "cell_type": "code",
   "execution_count": 28,
   "id": "fa54b879",
   "metadata": {},
   "outputs": [
    {
     "data": {
      "text/plain": [
       "[0.06860276311635971, 0.9789000153541565]"
      ]
     },
     "execution_count": 28,
     "metadata": {},
     "output_type": "execute_result"
    }
   ],
   "source": [
    "quant_aware_model.evaluate(x_test,  y_test, verbose=0)"
   ]
  },
  {
   "cell_type": "code",
   "execution_count": 29,
   "id": "f39e600b",
   "metadata": {},
   "outputs": [
    {
     "name": "stdout",
     "output_type": "stream",
     "text": [
      "You must install pydot (`pip install pydot`) and install graphviz (see instructions at https://graphviz.gitlab.io/download/) for plot_model to work.\n"
     ]
    }
   ],
   "source": [
    "plot_model(quant_aware_model, show_shapes=True, show_layer_names=True)"
   ]
  },
  {
   "cell_type": "code",
   "execution_count": 42,
   "id": "86f5c923",
   "metadata": {},
   "outputs": [
    {
     "data": {
      "image/png": "[encoded data removed]",
      "text/plain": [
       "<PIL.Image.Image image mode=RGBA size=343x143 at 0x12494CC9C70>"
      ]
     },
     "execution_count": 42,
     "metadata": {},
     "output_type": "execute_result"
    }
   ],
   "source": [
    "visualkeras.layered_view(model, legend=True, draw_volume=False)"
   ]
  },
  {
   "cell_type": "code",
   "execution_count": null,
   "id": "5260673b",
   "metadata": {},
   "outputs": [],
   "source": []
  },
  {
   "cell_type": "code",
   "execution_count": 31,
   "id": "bd2118e7",
   "metadata": {},
   "outputs": [
    {
     "name": "stdout",
     "output_type": "stream",
     "text": [
      "Epoch 1/50\n",
      "844/844 [==============================] - 5s 6ms/step - loss: 0.0676 - accuracy: 0.9807 - val_loss: 0.0566 - val_accuracy: 0.9850\n",
      "Epoch 2/50\n",
      "844/844 [==============================] - 5s 6ms/step - loss: 0.0603 - accuracy: 0.9827 - val_loss: 0.0513 - val_accuracy: 0.9863\n",
      "Epoch 3/50\n",
      "844/844 [==============================] - 5s 6ms/step - loss: 0.0543 - accuracy: 0.9845 - val_loss: 0.0548 - val_accuracy: 0.9845\n",
      "Epoch 4/50\n",
      "844/844 [==============================] - 5s 6ms/step - loss: 0.0495 - accuracy: 0.9857 - val_loss: 0.0506 - val_accuracy: 0.9873\n",
      "Epoch 5/50\n",
      "844/844 [==============================] - 5s 6ms/step - loss: 0.0459 - accuracy: 0.9867 - val_loss: 0.0492 - val_accuracy: 0.9865\n",
      "Epoch 6/50\n",
      "844/844 [==============================] - 5s 6ms/step - loss: 0.0424 - accuracy: 0.9876 - val_loss: 0.0509 - val_accuracy: 0.9875\n",
      "Epoch 7/50\n",
      "844/844 [==============================] - 5s 6ms/step - loss: 0.0395 - accuracy: 0.9883 - val_loss: 0.0517 - val_accuracy: 0.9855\n",
      "Epoch 8/50\n",
      "844/844 [==============================] - 5s 6ms/step - loss: 0.0363 - accuracy: 0.9894 - val_loss: 0.0471 - val_accuracy: 0.9875\n",
      "Epoch 9/50\n",
      "844/844 [==============================] - 5s 6ms/step - loss: 0.0341 - accuracy: 0.9900 - val_loss: 0.0496 - val_accuracy: 0.9863\n",
      "Epoch 10/50\n",
      "844/844 [==============================] - 5s 6ms/step - loss: 0.0313 - accuracy: 0.9911 - val_loss: 0.0523 - val_accuracy: 0.9868\n",
      "Epoch 11/50\n",
      "844/844 [==============================] - 5s 6ms/step - loss: 0.0297 - accuracy: 0.9911 - val_loss: 0.0506 - val_accuracy: 0.9857\n",
      "Epoch 12/50\n",
      "844/844 [==============================] - 5s 6ms/step - loss: 0.0280 - accuracy: 0.9919 - val_loss: 0.0506 - val_accuracy: 0.9880\n",
      "Epoch 13/50\n",
      "844/844 [==============================] - 5s 6ms/step - loss: 0.0267 - accuracy: 0.9921 - val_loss: 0.0521 - val_accuracy: 0.9860\n",
      "Epoch 14/50\n",
      "844/844 [==============================] - 5s 6ms/step - loss: 0.0244 - accuracy: 0.9931 - val_loss: 0.0531 - val_accuracy: 0.9848\n",
      "Epoch 15/50\n",
      "844/844 [==============================] - 5s 6ms/step - loss: 0.0232 - accuracy: 0.9932 - val_loss: 0.0569 - val_accuracy: 0.9865\n",
      "Epoch 16/50\n",
      "844/844 [==============================] - 5s 6ms/step - loss: 0.0218 - accuracy: 0.9937 - val_loss: 0.0560 - val_accuracy: 0.9842\n",
      "Epoch 17/50\n",
      "844/844 [==============================] - 5s 6ms/step - loss: 0.0201 - accuracy: 0.9943 - val_loss: 0.0581 - val_accuracy: 0.9870\n",
      "Epoch 18/50\n",
      "844/844 [==============================] - 5s 6ms/step - loss: 0.0186 - accuracy: 0.9948 - val_loss: 0.0549 - val_accuracy: 0.9868\n",
      "Epoch 19/50\n",
      "844/844 [==============================] - 5s 6ms/step - loss: 0.0180 - accuracy: 0.9948 - val_loss: 0.0567 - val_accuracy: 0.9862\n",
      "Epoch 20/50\n",
      "844/844 [==============================] - 5s 6ms/step - loss: 0.0169 - accuracy: 0.9955 - val_loss: 0.0562 - val_accuracy: 0.9875\n",
      "Epoch 21/50\n",
      "844/844 [==============================] - 6s 7ms/step - loss: 0.0152 - accuracy: 0.9962 - val_loss: 0.0590 - val_accuracy: 0.9843\n",
      "Epoch 22/50\n",
      "844/844 [==============================] - 5s 6ms/step - loss: 0.0147 - accuracy: 0.9959 - val_loss: 0.0581 - val_accuracy: 0.9853\n",
      "Epoch 23/50\n",
      "844/844 [==============================] - 5s 6ms/step - loss: 0.0137 - accuracy: 0.9963 - val_loss: 0.0590 - val_accuracy: 0.9858\n",
      "Epoch 24/50\n",
      "844/844 [==============================] - 5s 6ms/step - loss: 0.0130 - accuracy: 0.9965 - val_loss: 0.0596 - val_accuracy: 0.9863\n",
      "Epoch 25/50\n",
      "844/844 [==============================] - 5s 6ms/step - loss: 0.0123 - accuracy: 0.9968 - val_loss: 0.0627 - val_accuracy: 0.9862\n",
      "Epoch 26/50\n",
      "844/844 [==============================] - 5s 6ms/step - loss: 0.0117 - accuracy: 0.9971 - val_loss: 0.0681 - val_accuracy: 0.9838\n",
      "Epoch 27/50\n",
      "844/844 [==============================] - 8s 9ms/step - loss: 0.0110 - accuracy: 0.9970 - val_loss: 0.0639 - val_accuracy: 0.9855\n",
      "Epoch 28/50\n",
      "844/844 [==============================] - 5s 5ms/step - loss: 0.0096 - accuracy: 0.9979 - val_loss: 0.0650 - val_accuracy: 0.9862\n",
      "Epoch 29/50\n",
      "844/844 [==============================] - 5s 6ms/step - loss: 0.0097 - accuracy: 0.9973 - val_loss: 0.0624 - val_accuracy: 0.9863\n",
      "Epoch 30/50\n",
      "844/844 [==============================] - 5s 6ms/step - loss: 0.0092 - accuracy: 0.9977 - val_loss: 0.0752 - val_accuracy: 0.9845\n",
      "Epoch 31/50\n",
      "844/844 [==============================] - 6s 7ms/step - loss: 0.0085 - accuracy: 0.9981 - val_loss: 0.0678 - val_accuracy: 0.9867\n",
      "Epoch 32/50\n",
      "844/844 [==============================] - 6s 7ms/step - loss: 0.0078 - accuracy: 0.9982 - val_loss: 0.0716 - val_accuracy: 0.9843\n",
      "Epoch 33/50\n",
      "844/844 [==============================] - 6s 7ms/step - loss: 0.0077 - accuracy: 0.9982 - val_loss: 0.0695 - val_accuracy: 0.9862\n",
      "Epoch 34/50\n",
      "844/844 [==============================] - 6s 7ms/step - loss: 0.0074 - accuracy: 0.9982 - val_loss: 0.0759 - val_accuracy: 0.9840\n",
      "Epoch 35/50\n",
      "844/844 [==============================] - 6s 7ms/step - loss: 0.0069 - accuracy: 0.9985 - val_loss: 0.0689 - val_accuracy: 0.9865\n",
      "Epoch 36/50\n",
      "844/844 [==============================] - 6s 7ms/step - loss: 0.0065 - accuracy: 0.9984 - val_loss: 0.0732 - val_accuracy: 0.9855\n",
      "Epoch 37/50\n",
      "844/844 [==============================] - 6s 7ms/step - loss: 0.0058 - accuracy: 0.9989 - val_loss: 0.0759 - val_accuracy: 0.9855\n",
      "Epoch 38/50\n",
      "844/844 [==============================] - 5s 6ms/step - loss: 0.0054 - accuracy: 0.9991 - val_loss: 0.0750 - val_accuracy: 0.9847\n",
      "Epoch 39/50\n",
      "844/844 [==============================] - 5s 6ms/step - loss: 0.0056 - accuracy: 0.9988 - val_loss: 0.0778 - val_accuracy: 0.9862\n",
      "Epoch 40/50\n",
      "844/844 [==============================] - 5s 6ms/step - loss: 0.0046 - accuracy: 0.9991 - val_loss: 0.0799 - val_accuracy: 0.9843\n",
      "Epoch 41/50\n",
      "844/844 [==============================] - 5s 6ms/step - loss: 0.0044 - accuracy: 0.9993 - val_loss: 0.0773 - val_accuracy: 0.9860\n",
      "Epoch 42/50\n",
      "844/844 [==============================] - 5s 6ms/step - loss: 0.0050 - accuracy: 0.9988 - val_loss: 0.0825 - val_accuracy: 0.9845\n",
      "Epoch 43/50\n",
      "844/844 [==============================] - 5s 6ms/step - loss: 0.0039 - accuracy: 0.9993 - val_loss: 0.0849 - val_accuracy: 0.9853\n",
      "Epoch 44/50\n",
      "844/844 [==============================] - 5s 6ms/step - loss: 0.0039 - accuracy: 0.9993 - val_loss: 0.0832 - val_accuracy: 0.9865\n",
      "Epoch 45/50\n",
      "844/844 [==============================] - 5s 6ms/step - loss: 0.0040 - accuracy: 0.9992 - val_loss: 0.0784 - val_accuracy: 0.9863\n",
      "Epoch 46/50\n",
      "844/844 [==============================] - 5s 6ms/step - loss: 0.0040 - accuracy: 0.9992 - val_loss: 0.0831 - val_accuracy: 0.9858\n",
      "Epoch 47/50\n",
      "844/844 [==============================] - 6s 7ms/step - loss: 0.0035 - accuracy: 0.9994 - val_loss: 0.0842 - val_accuracy: 0.9852\n",
      "Epoch 48/50\n",
      "844/844 [==============================] - 5s 6ms/step - loss: 0.0030 - accuracy: 0.9995 - val_loss: 0.0870 - val_accuracy: 0.9860\n",
      "Epoch 49/50\n",
      "844/844 [==============================] - 5s 6ms/step - loss: 0.0035 - accuracy: 0.9993 - val_loss: 0.0811 - val_accuracy: 0.9860\n",
      "Epoch 50/50\n",
      "844/844 [==============================] - 5s 6ms/step - loss: 0.0031 - accuracy: 0.9994 - val_loss: 0.0865 - val_accuracy: 0.9858\n"
     ]
    },
    {
     "data": {
      "image/png": "[encoded data removed]",
      "text/plain": [
       "<Figure size 432x288 with 1 Axes>"
      ]
     },
     "metadata": {
      "needs_background": "light"
     },
     "output_type": "display_data"
    }
   ],
   "source": [
    "import keras\n",
    "from matplotlib import pyplot as plt\n",
    "history = quant_aware_model.fit(x_train, y_train,validation_split = 0.1, epochs=50, batch_size=64)\n",
    "plt.plot(history.history['accuracy'])\n",
    "plt.plot(history.history['val_accuracy'])\n",
    "plt.title('model accuracy')\n",
    "plt.ylabel('accuracy')\n",
    "plt.xlabel('epoch')\n",
    "plt.legend(['train', 'val'], loc='upper left')\n",
    "plt.show()"
   ]
  },
  {
   "cell_type": "code",
   "execution_count": 32,
   "id": "f75dba91",
   "metadata": {},
   "outputs": [
    {
     "data": {
      "image/png": "[encoded data removed]",
      "text/plain": [
       "<Figure size 432x288 with 1 Axes>"
      ]
     },
     "metadata": {
      "needs_background": "light"
     },
     "output_type": "display_data"
    }
   ],
   "source": [
    "plt.plot(history.history['loss'])\n",
    "plt.plot(history.history['val_loss'])\n",
    "plt.title('model loss')\n",
    "plt.ylabel('loss')\n",
    "plt.xlabel('epoch')\n",
    "plt.legend(['train', 'val'], loc='upper left')\n",
    "plt.show()"
   ]
  },
  {
   "cell_type": "code",
   "execution_count": 70,
   "id": "437230a6",
   "metadata": {},
   "outputs": [],
   "source": [
    "mnist = keras.datasets.mnist\n",
    "(train_images, train_labels), (test_images, test_labels) = mnist.load_data()"
   ]
  },
  {
   "cell_type": "code",
   "execution_count": 76,
   "id": "aa152315",
   "metadata": {},
   "outputs": [
    {
     "name": "stdout",
     "output_type": "stream",
     "text": [
      "Baseline test accuracy: 0.9757999777793884\n",
      "Quantize test accuracy: 0.9585999846458435\n"
     ]
    }
   ],
   "source": [
    "_, baseline_model_accuracy = base_model.evaluate(\n",
    "    test_images, test_labels, verbose=0)\n",
    "\n",
    "_, quant_aware_model_accuracy = quant_aware_model.evaluate(\n",
    "   test_images, test_labels, verbose=0)\n",
    "\n",
    "print('Baseline test accuracy:', baseline_model_accuracy)\n",
    "print('Quantize test accuracy:', quant_aware_model_accuracy)"
   ]
  },
  {
   "cell_type": "code",
   "execution_count": 77,
   "id": "44537dce",
   "metadata": {},
   "outputs": [
    {
     "name": "stderr",
     "output_type": "stream",
     "text": [
      "WARNING:absl:Found untraced functions such as reshape_5_layer_call_fn, reshape_5_layer_call_and_return_conditional_losses, conv2d_7_layer_call_fn, conv2d_7_layer_call_and_return_conditional_losses, _jit_compiled_convolution_op while saving (showing 5 of 9). These functions will not be directly callable after loading.\n"
     ]
    },
    {
     "name": "stdout",
     "output_type": "stream",
     "text": [
      "INFO:tensorflow:Assets written to: C:\\Windows\\TEMP\\tmpg36y0kn6\\assets\n"
     ]
    },
    {
     "name": "stderr",
     "output_type": "stream",
     "text": [
      "INFO:tensorflow:Assets written to: C:\\Windows\\TEMP\\tmpg36y0kn6\\assets\n",
      "C:\\Users\\Meskat Jahan\\anaconda3\\lib\\site-packages\\tensorflow\\lite\\python\\convert.py:766: UserWarning: Statistics for quantized inputs were expected, but not specified; continuing anyway.\n",
      "  warnings.warn(\"Statistics for quantized inputs were expected, but not \"\n"
     ]
    }
   ],
   "source": [
    "converter = tf.lite.TFLiteConverter.from_keras_model(quant_aware_model)\n",
    "\n",
    "\n",
    "converter.optimizations = [tf.lite.Optimize.DEFAULT]\n",
    "quantized_tflite_model9 = converter.convert()"
   ]
  },
  {
   "cell_type": "code",
   "execution_count": 78,
   "id": "fde3a880",
   "metadata": {},
   "outputs": [],
   "source": [
    "import numpy as np\n",
    "\n",
    "def evaluate_model(interpreter):\n",
    "  input_index = interpreter.get_input_details()[0][\"index\"]\n",
    "  output_index = interpreter.get_output_details()[0][\"index\"]\n",
    "\n",
    "  # Run predictions on every image in the \"test\" dataset.\n",
    "  prediction_digits = []\n",
    "  for i, test_image in enumerate(test_images):\n",
    "    if i % 1000 == 0:\n",
    "      print('Evaluated on {n} results so far.'.format(n=i))\n",
    "    # Pre-processing: add batch dimension and convert to float32 to match with\n",
    "    # the model's input data format.\n",
    "    test_image = np.expand_dims(test_image, axis=0).astype(np.float32)\n",
    "    interpreter.set_tensor(input_index, test_image)\n",
    "\n",
    "    # Run inference.\n",
    "    interpreter.invoke()\n",
    "\n",
    "    # Post-processing: remove batch dimension and find the digit with highest\n",
    "    # probability.\n",
    "    output = interpreter.tensor(output_index)\n",
    "    digit = np.argmax(output()[0])\n",
    "    prediction_digits.append(digit)\n",
    "\n",
    "  print('\\n')\n",
    "  # Compare prediction results with ground truth labels to calculate accuracy.\n",
    "  prediction_digits = np.array(prediction_digits)\n",
    "  accuracy = (prediction_digits == test_labels).mean()\n",
    "  return accuracy"
   ]
  },
  {
   "cell_type": "code",
   "execution_count": 79,
   "id": "f8eec64d",
   "metadata": {},
   "outputs": [
    {
     "name": "stdout",
     "output_type": "stream",
     "text": [
      "Evaluated on 0 results so far.\n",
      "Evaluated on 1000 results so far.\n",
      "Evaluated on 2000 results so far.\n",
      "Evaluated on 3000 results so far.\n",
      "Evaluated on 4000 results so far.\n",
      "Evaluated on 5000 results so far.\n",
      "Evaluated on 6000 results so far.\n",
      "Evaluated on 7000 results so far.\n",
      "Evaluated on 8000 results so far.\n",
      "Evaluated on 9000 results so far.\n",
      "\n",
      "\n",
      "Quant TFLite test_accuracy: 0.9579\n",
      "Quant TF test accuracy: 0.9585999846458435\n"
     ]
    }
   ],
   "source": [
    "interpreter = tf.lite.Interpreter(model_content=quantized_tflite_model9)\n",
    "interpreter.allocate_tensors()\n",
    "\n",
    "test_accuracy = evaluate_model(interpreter)\n",
    "\n",
    "print('Quant TFLite test_accuracy:', test_accuracy)\n",
    "print('Quant TF test accuracy:', quant_aware_model_accuracy)"
   ]
  },
  {
   "cell_type": "code",
   "execution_count": 80,
   "id": "c6326273",
   "metadata": {},
   "outputs": [
    {
     "name": "stdout",
     "output_type": "stream",
     "text": [
      "Evaluated on 0 results so far.\n",
      "Evaluated on 1000 results so far.\n",
      "Evaluated on 2000 results so far.\n",
      "Evaluated on 3000 results so far.\n",
      "Evaluated on 4000 results so far.\n",
      "Evaluated on 5000 results so far.\n",
      "Evaluated on 6000 results so far.\n",
      "Evaluated on 7000 results so far.\n",
      "Evaluated on 8000 results so far.\n",
      "Evaluated on 9000 results so far.\n",
      "\n",
      "\n",
      "Quant TFLite test_accuracy: 0.9579\n",
      "Quant TF test accuracy: 0.9585999846458435\n"
     ]
    }
   ],
   "source": [
    "interpreter = tf.lite.Interpreter(model_content=quantized_tflite_model9)\n",
    "interpreter.allocate_tensors()\n",
    "\n",
    "test_accuracy = evaluate_model(interpreter)\n",
    "\n",
    "print('Quant TFLite test_accuracy:', test_accuracy)\n",
    "print('Quant TF test accuracy:', quant_aware_model_accuracy)"
   ]
  },
  {
   "cell_type": "code",
   "execution_count": 82,
   "id": "8012279e",
   "metadata": {},
   "outputs": [
    {
     "name": "stdout",
     "output_type": "stream",
     "text": [
      "INFO:tensorflow:Assets written to: C:\\Windows\\TEMP\\tmp6v1u8vyy\\assets\n"
     ]
    },
    {
     "name": "stderr",
     "output_type": "stream",
     "text": [
      "INFO:tensorflow:Assets written to: C:\\Windows\\TEMP\\tmp6v1u8vyy\\assets\n"
     ]
    },
    {
     "name": "stdout",
     "output_type": "stream",
     "text": [
      "Float model in Mb: 0.389923095703125\n",
      "Quantized model in Mb: 0.25444793701171875\n"
     ]
    }
   ],
   "source": [
    "# Create float TFLite model.\n",
    "float_converter = tf.lite.TFLiteConverter.from_keras_model(base_model)\n",
    "float_tflite_model10 = float_converter.convert()\n",
    "\n",
    "\n",
    "# Measure sizes of models.\n",
    "_, float_file = tempfile.mkstemp('.tflite')\n",
    "_, quant_file = tempfile.mkstemp('.tflite')\n",
    "\n",
    "with open(quant_file, 'wb') as f:\n",
    "  f.write(quantized_tflite_model9)\n",
    "\n",
    "with open(float_file, 'wb') as f:\n",
    "  f.write(float_tflite_model10)\n",
    "\n",
    "print(\"Float model in Mb:\", os.path.getsize(float_file) / float(2**20))\n",
    "print(\"Quantized model in Mb:\", os.path.getsize(quant_file) / float(2**20))"
   ]
  },
  {
   "cell_type": "code",
   "execution_count": null,
   "id": "5735a007",
   "metadata": {},
   "outputs": [],
   "source": []
  }
 ],
 "metadata": {
  "kernelspec": {
   "display_name": "Python 3 (ipykernel)",
   "language": "python",
   "name": "python3"
  },
  "language_info": {
   "codemirror_mode": {
    "name": "ipython",
    "version": 3
   },
   "file_extension": ".py",
   "mimetype": "text/x-python",
   "name": "python",
   "nbconvert_exporter": "python",
   "pygments_lexer": "ipython3",
   "version": "3.9.12"
  }
 },
 "nbformat": 4,
 "nbformat_minor": 5
}
