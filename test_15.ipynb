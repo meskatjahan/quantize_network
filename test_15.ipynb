{
 "cells": [
  {
   "cell_type": "code",
   "execution_count": 5,
   "id": "180284d8",
   "metadata": {},
   "outputs": [],
   "source": [
    "!pip install -q tensorflow \n",
    "!pip install -q keras\n",
    "\n",
    "\n",
    "## Imports libs\n",
    "import os\n",
    "from tensorflow import keras"
   ]
  },
  {
   "cell_type": "code",
   "execution_count": 24,
   "id": "ae830851",
   "metadata": {},
   "outputs": [
    {
     "name": "stdout",
     "output_type": "stream",
     "text": [
      "Defaulting to user installation because normal site-packages is not writeable\n",
      "Requirement already satisfied: visualkeras in c:\\users\\meskat jahan\\appdata\\roaming\\python\\python39\\site-packages (0.0.2)\n",
      "Requirement already satisfied: pillow>=6.2.0 in c:\\programdata\\anaconda3\\lib\\site-packages (from visualkeras) (9.0.1)\n",
      "Requirement already satisfied: aggdraw>=1.3.11 in c:\\users\\meskat jahan\\appdata\\roaming\\python\\python39\\site-packages (from visualkeras) (1.3.15)\n",
      "Requirement already satisfied: numpy>=1.18.1 in c:\\programdata\\anaconda3\\lib\\site-packages (from visualkeras) (1.21.5)\n"
     ]
    }
   ],
   "source": [
    "!pip install visualkeras"
   ]
  },
  {
   "cell_type": "code",
   "execution_count": 3,
   "id": "914c2581",
   "metadata": {},
   "outputs": [
    {
     "name": "stdout",
     "output_type": "stream",
     "text": [
      "Defaulting to user installation because normal site-packages is not writeable\n",
      "Requirement already satisfied: numpy in c:\\programdata\\anaconda3\\lib\\site-packages (1.21.5)\n"
     ]
    }
   ],
   "source": [
    "!pip install numpy "
   ]
  },
  {
   "cell_type": "code",
   "execution_count": 4,
   "id": "91d2cab8",
   "metadata": {},
   "outputs": [],
   "source": [
    " !pip install -q tensorflow-model-optimization"
   ]
  },
  {
   "cell_type": "code",
   "execution_count": 42,
   "id": "2a2110c7",
   "metadata": {},
   "outputs": [],
   "source": [
    "import visualkeras\n",
    "from sklearn.model_selection              import train_test_split\n",
    "from sklearn.metrics                      import confusion_matrix\n",
    "from tensorflow.keras.utils               import to_categorical\n",
    "from tensorflow.keras.models              import Sequential\n",
    "from tensorflow.keras.layers              import (Dense, Dropout, Flatten, Conv2D, MaxPool2D,\n",
    "                                                  Lambda, BatchNormalization)\n",
    "from tensorflow.keras.optimizers          import RMSprop\n",
    "from tensorflow.keras.preprocessing.image import ImageDataGenerator\n",
    "from tensorflow.keras.callbacks           import ReduceLROnPlateau\n",
    "from tensorflow.keras.optimizers          import RMSprop, Adam, SGD\n",
    "from tensorflow.keras.utils               import plot_model"
   ]
  },
  {
   "cell_type": "code",
   "execution_count": null,
   "id": "0bf99cd7",
   "metadata": {},
   "outputs": [],
   "source": [
    "import numpy as np\n",
    "import pandas as pd\n",
    "import matplotlib.pyplot as plt\n",
    "import matplotlib.image as mpimg\n",
    "import seaborn as sns\n",
    "import os"
   ]
  },
  {
   "cell_type": "code",
   "execution_count": 6,
   "id": "4d1ed1f7",
   "metadata": {},
   "outputs": [
    {
     "name": "stdout",
     "output_type": "stream",
     "text": [
      "PYTHONPATH: None\n",
      "PATH: C:\\ProgramData\\Anaconda3;C:\\ProgramData\\Anaconda3\\Library\\mingw-w64\\bin;C:\\ProgramData\\Anaconda3\\Library\\usr\\bin;C:\\ProgramData\\Anaconda3\\Library\\bin;C:\\ProgramData\\Anaconda3\\Scripts;C:\\Program Files\\NVIDIA GPU Computing Toolkit\\CUDA\\v11.6\\bin;C:\\Program Files\\NVIDIA GPU Computing Toolkit\\CUDA\\v11.6\\libnvvp;C:\\Windows\\system32;C:\\Windows;C:\\Windows\\System32\\Wbem;C:\\Windows\\System32\\WindowsPowerShell\\v1.0\\;C:\\Windows\\System32\\OpenSSH\\;C:\\Program Files\\dotnet\\;C:\\Program Files\\NVIDIA Corporation\\NVIDIA NvDLISR;C:\\Program Files (x86)\\NVIDIA Corporation\\PhysX\\Common;C:\\Program Files\\NVIDIA Corporation\\Nsight Compute 2022.1.1\\;C:\\Users\\Meskat Jahan\\anaconda3;C:\\Users\\Meskat Jahan\\anaconda3\\Library\\bin;C:\\Users\\Meskat Jahan\\anaconda3\\Scripts;C:\\Users\\Meskat Jahan\\AppData\\Local\\Microsoft\\WindowsApps;C:\\Users\\Meskat Jahan\\anaconda3\\DLLs;C:\\Users\\Meskat Jahan\\anaconda3\\condabin;C:\\Users\\Meskat Jahan\\anaconda3\\envs\\gpu2\\python.exe;\n"
     ]
    }
   ],
   "source": [
    "import os\n",
    "print(\"PYTHONPATH:\", os.environ.get('PYTHONPATH'))\n",
    "print(\"PATH:\", os.environ.get('PATH'))"
   ]
  },
  {
   "cell_type": "code",
   "execution_count": 2,
   "id": "b4fa8b77",
   "metadata": {},
   "outputs": [],
   "source": [
    "import tempfile\n",
    "import os\n",
    "\n",
    "import tensorflow as tf\n",
    "\n",
    "from tensorflow import keras"
   ]
  },
  {
   "cell_type": "code",
   "execution_count": 41,
   "id": "00de270f",
   "metadata": {},
   "outputs": [],
   "source": [
    "import numpy as np\n",
    "import pandas as pd\n",
    "import matplotlib.pyplot as plt\n",
    "import matplotlib.image as mpimg\n",
    "import seaborn as sns\n",
    "import os"
   ]
  },
  {
   "cell_type": "code",
   "execution_count": 4,
   "id": "8d85fd11",
   "metadata": {},
   "outputs": [],
   "source": [
    "import tensorflow as tf\n",
    "import numpy as np\n",
    "import tensorflow_model_optimization as tfmot\n",
    "\n",
    "import tempfile"
   ]
  },
  {
   "cell_type": "code",
   "execution_count": 9,
   "id": "08d5e890",
   "metadata": {},
   "outputs": [
    {
     "ename": "ModuleNotFoundError",
     "evalue": "No module named 'torchvision'",
     "output_type": "error",
     "traceback": [
      "\u001b[1;31m---------------------------------------------------------------------------\u001b[0m",
      "\u001b[1;31mModuleNotFoundError\u001b[0m                       Traceback (most recent call last)",
      "Input \u001b[1;32mIn [9]\u001b[0m, in \u001b[0;36m<cell line: 2>\u001b[1;34m()\u001b[0m\n\u001b[0;32m      1\u001b[0m \u001b[38;5;28;01mimport\u001b[39;00m \u001b[38;5;21;01mtorch\u001b[39;00m\n\u001b[1;32m----> 2\u001b[0m \u001b[38;5;28;01mimport\u001b[39;00m \u001b[38;5;21;01mtorchvision\u001b[39;00m\n\u001b[0;32m      3\u001b[0m \u001b[38;5;28;01mimport\u001b[39;00m \u001b[38;5;21;01mnumpy\u001b[39;00m \u001b[38;5;28;01mas\u001b[39;00m \u001b[38;5;21;01mnp\u001b[39;00m\n\u001b[0;32m      4\u001b[0m \u001b[38;5;28;01mimport\u001b[39;00m \u001b[38;5;21;01mmatplotlib\u001b[39;00m\u001b[38;5;21;01m.\u001b[39;00m\u001b[38;5;21;01mpyplot\u001b[39;00m \u001b[38;5;28;01mas\u001b[39;00m \u001b[38;5;21;01mplt\u001b[39;00m\n",
      "\u001b[1;31mModuleNotFoundError\u001b[0m: No module named 'torchvision'"
     ]
    }
   ],
   "source": [
    "\n",
    "import torch\n",
    "import torchvision\n",
    "import numpy as np\n",
    "import matplotlib.pyplot as plt\n",
    "import torch.nn as nn\n",
    "import torch.nn.functional as F\n",
    "from torchvision.datasets import SVHN\n",
    "from torchvision.transforms import ToTensor\n",
    "from torchvision.utils import make_grid\n",
    "from torch.utils.data.dataloader import DataLoader\n",
    "from torch.utils.data import random_split\n",
    "%matplotlib inline"
   ]
  },
  {
   "cell_type": "code",
   "execution_count": 10,
   "id": "222ab529",
   "metadata": {},
   "outputs": [
    {
     "name": "stdout",
     "output_type": "stream",
     "text": [
      "\n",
      "Note: you may need to restart the kernel to use updated packages.\n"
     ]
    }
   ],
   "source": [
    "conda install -c pytorch pytorch"
   ]
  },
  {
   "cell_type": "code",
   "execution_count": 11,
   "id": "2db97496",
   "metadata": {},
   "outputs": [
    {
     "name": "stdout",
     "output_type": "stream",
     "text": [
      "Defaulting to user installation because normal site-packages is not writeable\n",
      "Requirement already satisfied: torch in c:\\users\\meskat jahan\\appdata\\roaming\\python\\python39\\site-packages (1.12.1)\n",
      "Requirement already satisfied: typing-extensions in c:\\programdata\\anaconda3\\lib\\site-packages (from torch) (4.1.1)\n"
     ]
    }
   ],
   "source": [
    "!pip3 install torch"
   ]
  },
  {
   "cell_type": "code",
   "execution_count": 12,
   "id": "f3be2964",
   "metadata": {},
   "outputs": [
    {
     "name": "stdout",
     "output_type": "stream",
     "text": [
      "\n",
      "Note: you may need to restart the kernel to use updated packages.\n"
     ]
    }
   ],
   "source": [
    "conda install pytorch torchvision -c pytorch"
   ]
  },
  {
   "cell_type": "code",
   "execution_count": 14,
   "id": "a9a2f3dc",
   "metadata": {},
   "outputs": [],
   "source": [
    "cifar=tf.keras.datasets.cifar10.load_data()"
   ]
  },
  {
   "cell_type": "code",
   "execution_count": 15,
   "id": "6ff5b8bf",
   "metadata": {},
   "outputs": [],
   "source": [
    "(x_train, y_train), (x_test, y_test) = keras.datasets.cifar10.load_data()\n",
    "\n",
    "x_train = x_train / 255.0\n",
    "x_test  = x_test  / 255.0 \n",
    "\n",
    "assert x_train.shape == (50000, 32, 32, 3)\n",
    "assert x_test.shape == (10000, 32, 32, 3)\n",
    "assert y_train.shape == (50000, 1)\n",
    "assert y_test.shape == (10000, 1)"
   ]
  },
  {
   "cell_type": "code",
   "execution_count": 11,
   "id": "e7e86e65",
   "metadata": {},
   "outputs": [
    {
     "data": {
      "text/plain": [
       "<matplotlib.image.AxesImage at 0x1f62518f2e0>"
      ]
     },
     "execution_count": 11,
     "metadata": {},
     "output_type": "execute_result"
    },
    {
     "data": {
      "image/png": "[encoded data removed]",
      "text/plain": [
       "<Figure size 432x288 with 1 Axes>"
      ]
     },
     "metadata": {
      "needs_background": "light"
     },
     "output_type": "display_data"
    }
   ],
   "source": [
    "plt.imshow(x_train[25])"
   ]
  },
  {
   "cell_type": "code",
   "execution_count": 81,
   "id": "de82c3f5",
   "metadata": {},
   "outputs": [],
   "source": [
    "model10 = tf.keras.models.Sequential([\n",
    "             tf.keras.layers.Conv2D(32,\n",
    "                                 kernel_size=(3,3),\n",
    "                                 strides=(1,1),\n",
    "                                 padding=\"same\",\n",
    "                                 activation=\"relu\",\n",
    "                                 input_shape=(32,32,3)),\n",
    "             tf.keras.layers.BatchNormalization(),\n",
    "             tf.keras.layers.Conv2D(64,\n",
    "                                 kernel_size=(3,3),\n",
    "                                 strides=(1,1),\n",
    "                                 padding=\"same\",\n",
    "                                 activation=\"relu\"),\n",
    "             tf.keras.layers.BatchNormalization(),\n",
    "             tf.keras.layers.Conv2D(128,\n",
    "                                 kernel_size=(3,3),\n",
    "                                 strides=(1,1),\n",
    "                                 padding=\"same\",\n",
    "                                 activation=\"relu\"),\n",
    "             tf.keras.layers.BatchNormalization(),\n",
    "             tf.keras.layers.MaxPooling2D(2,2),\n",
    "             tf.keras.layers.Conv2D(256,\n",
    "                                 kernel_size=(3,3),\n",
    "                                 strides=(1,1),\n",
    "                                 padding=\"same\",\n",
    "                                 activation=\"relu\"),\n",
    "             tf.keras.layers.BatchNormalization(),\n",
    "             tf.keras.layers.MaxPooling2D(2,2),\n",
    "             tf.keras.layers.Flatten(),\n",
    "             tf.keras.layers.Dense(512, activation=\"relu\"),\n",
    "             tf.keras.layers.BatchNormalization(),\n",
    "             tf.keras.layers.Dropout(0.5),\n",
    "             tf.keras.layers.Flatten(),\n",
    "             tf.keras.layers.Dense(1028, activation=\"relu\"),\n",
    "             tf.keras.layers.BatchNormalization(),\n",
    "             tf.keras.layers.Dropout(0.5),\n",
    "             tf.keras.layers.Dense(10, activation=\"softmax\")\n",
    "       ])\n"
   ]
  },
  {
   "cell_type": "code",
   "execution_count": 15,
   "id": "4ea56041",
   "metadata": {},
   "outputs": [
    {
     "name": "stdout",
     "output_type": "stream",
     "text": [
      "X_train.shape  : (50000, 32, 32, 3)\n"
     ]
    },
    {
     "ename": "NameError",
     "evalue": "name 'x_val' is not defined",
     "output_type": "error",
     "traceback": [
      "\u001b[1;31m---------------------------------------------------------------------------\u001b[0m",
      "\u001b[1;31mNameError\u001b[0m                                 Traceback (most recent call last)",
      "Input \u001b[1;32mIn [15]\u001b[0m, in \u001b[0;36m<cell line: 2>\u001b[1;34m()\u001b[0m\n\u001b[0;32m      1\u001b[0m \u001b[38;5;28mprint\u001b[39m(\u001b[38;5;124m'\u001b[39m\u001b[38;5;124mX_train.shape  :\u001b[39m\u001b[38;5;124m'\u001b[39m, x_train\u001b[38;5;241m.\u001b[39mshape)\n\u001b[1;32m----> 2\u001b[0m \u001b[38;5;28mprint\u001b[39m(\u001b[38;5;124m'\u001b[39m\u001b[38;5;124mX_val.shape    :\u001b[39m\u001b[38;5;124m'\u001b[39m, \u001b[43mx_val\u001b[49m\u001b[38;5;241m.\u001b[39mshape)\n\u001b[0;32m      3\u001b[0m \u001b[38;5;28mprint\u001b[39m(\u001b[38;5;124m'\u001b[39m\u001b[38;5;124mY_train.shape  :\u001b[39m\u001b[38;5;124m'\u001b[39m, y_train\u001b[38;5;241m.\u001b[39mshape)\n\u001b[0;32m      4\u001b[0m \u001b[38;5;28mprint\u001b[39m(\u001b[38;5;124m'\u001b[39m\u001b[38;5;124mY_val.shape    :\u001b[39m\u001b[38;5;124m'\u001b[39m, y_val\u001b[38;5;241m.\u001b[39mshape)\n",
      "\u001b[1;31mNameError\u001b[0m: name 'x_val' is not defined"
     ]
    }
   ],
   "source": [
    "print('X_train.shape  :', x_train.shape)\n",
    "print('X_val.shape    :', x_val.shape)\n",
    "print('Y_train.shape  :', y_train.shape)\n",
    "print('Y_val.shape    :', y_val.shape)"
   ]
  },
  {
   "cell_type": "code",
   "execution_count": 15,
   "id": "9ff6d36a",
   "metadata": {},
   "outputs": [],
   "source": [
    "model11 = tf.keras.models.Sequential([\n",
    "  tf.keras.layers.Flatten(input_shape=(32, 32,3)),\n",
    "  tf.keras.layers.Dense(128, activation='relu'),\n",
    "  tf.keras.layers.Dropout(0.2),\n",
    "  tf.keras.layers.Dense(10, activation='softmax')\n",
    "])"
   ]
  },
  {
   "cell_type": "code",
   "execution_count": 82,
   "id": "0cbebe04",
   "metadata": {},
   "outputs": [],
   "source": [
    "loss_fn = tf.keras.losses.SparseCategoricalCrossentropy(from_logits=True)"
   ]
  },
  {
   "cell_type": "code",
   "execution_count": 83,
   "id": "a5238ffa",
   "metadata": {},
   "outputs": [],
   "source": [
    "model10.compile(optimizer='adam',\n",
    "              loss=loss_fn,\n",
    "              metrics=['accuracy'])"
   ]
  },
  {
   "cell_type": "code",
   "execution_count": 84,
   "id": "e64a5cc8",
   "metadata": {},
   "outputs": [
    {
     "name": "stdout",
     "output_type": "stream",
     "text": [
      "Epoch 1/5\n",
      "1563/1563 [==============================] - 38s 23ms/step - loss: 1.6504 - accuracy: 0.4664\n",
      "Epoch 2/5\n",
      "1563/1563 [==============================] - 36s 23ms/step - loss: 1.0397 - accuracy: 0.6402\n",
      "Epoch 3/5\n",
      "1563/1563 [==============================] - 36s 23ms/step - loss: 0.8893 - accuracy: 0.6926\n",
      "Epoch 4/5\n",
      "1563/1563 [==============================] - 36s 23ms/step - loss: 0.7443 - accuracy: 0.7439\n",
      "Epoch 5/5\n",
      "1563/1563 [==============================] - 36s 23ms/step - loss: 0.6252 - accuracy: 0.7844\n"
     ]
    },
    {
     "data": {
      "text/plain": [
       "<keras.callbacks.History at 0x17e4a9cb5e0>"
      ]
     },
     "execution_count": 84,
     "metadata": {},
     "output_type": "execute_result"
    }
   ],
   "source": [
    "model10.fit(x_train, y_train, epochs=5)"
   ]
  },
  {
   "cell_type": "code",
   "execution_count": 85,
   "id": "e0847bf1",
   "metadata": {},
   "outputs": [
    {
     "name": "stdout",
     "output_type": "stream",
     "text": [
      "313/313 - 3s - loss: 0.7640 - accuracy: 0.7466 - 3s/epoch - 8ms/step\n"
     ]
    },
    {
     "data": {
      "text/plain": [
       "[0.7640052437782288, 0.7465999722480774]"
      ]
     },
     "execution_count": 85,
     "metadata": {},
     "output_type": "execute_result"
    }
   ],
   "source": [
    "model10.evaluate(x_test,  y_test, verbose=2)"
   ]
  },
  {
   "cell_type": "code",
   "execution_count": 17,
   "id": "4d6cd28c",
   "metadata": {},
   "outputs": [
    {
     "name": "stdout",
     "output_type": "stream",
     "text": [
      "Defaulting to user installation because normal site-packages is not writeable\n",
      "Requirement already satisfied: pydot in c:\\users\\meskat jahan\\appdata\\roaming\\python\\python39\\site-packages (1.4.2)\n",
      "Requirement already satisfied: pyparsing>=2.1.4 in c:\\programdata\\anaconda3\\lib\\site-packages (from pydot) (3.0.4)\n"
     ]
    }
   ],
   "source": [
    "!pip install pydot"
   ]
  },
  {
   "cell_type": "code",
   "execution_count": 18,
   "id": "aa2fdc25",
   "metadata": {},
   "outputs": [
    {
     "name": "stdout",
     "output_type": "stream",
     "text": [
      "Defaulting to user installation because normal site-packages is not writeable\n",
      "Requirement already satisfied: graphviz in c:\\users\\meskat jahan\\appdata\\roaming\\python\\python39\\site-packages (0.20.1)\n"
     ]
    }
   ],
   "source": [
    "!pip install graphviz"
   ]
  },
  {
   "cell_type": "code",
   "execution_count": 79,
   "id": "55a63146",
   "metadata": {},
   "outputs": [
    {
     "name": "stdout",
     "output_type": "stream",
     "text": [
      "You must install pydot (`pip install pydot`) and install graphviz (see instructions at https://graphviz.gitlab.io/download/) for plot_model to work.\n"
     ]
    }
   ],
   "source": [
    "plot_model(model10, show_shapes=True, show_layer_names=True)"
   ]
  },
  {
   "cell_type": "code",
   "execution_count": 22,
   "id": "8424718f",
   "metadata": {},
   "outputs": [
    {
     "data": {
      "image/png": "[encoded data removed]",
      "text/plain": [
       "<PIL.Image.Image image mode=RGBA size=1375x207 at 0x1EF4FEB1550>"
      ]
     },
     "execution_count": 22,
     "metadata": {},
     "output_type": "execute_result"
    }
   ],
   "source": [
    "visualkeras.layered_view(model10, legend=True)"
   ]
  },
  {
   "cell_type": "code",
   "execution_count": 25,
   "id": "022fd719",
   "metadata": {},
   "outputs": [
    {
     "name": "stdout",
     "output_type": "stream",
     "text": [
      "Epoch 1/50\n",
      "704/704 [==============================] - 32s 44ms/step - loss: 0.9418 - accuracy: 0.6690 - val_loss: 0.8671 - val_accuracy: 0.7074\n",
      "Epoch 2/50\n",
      "704/704 [==============================] - 31s 45ms/step - loss: 0.8982 - accuracy: 0.6840 - val_loss: 0.8239 - val_accuracy: 0.7192\n",
      "Epoch 3/50\n",
      "704/704 [==============================] - 31s 44ms/step - loss: 0.8601 - accuracy: 0.6949 - val_loss: 0.7939 - val_accuracy: 0.7306\n",
      "Epoch 4/50\n",
      "704/704 [==============================] - 31s 44ms/step - loss: 0.8126 - accuracy: 0.7124 - val_loss: 0.7654 - val_accuracy: 0.7396\n",
      "Epoch 5/50\n",
      "704/704 [==============================] - 31s 45ms/step - loss: 0.7729 - accuracy: 0.7278 - val_loss: 0.7480 - val_accuracy: 0.7492\n",
      "Epoch 6/50\n",
      "704/704 [==============================] - 31s 44ms/step - loss: 0.7231 - accuracy: 0.7440 - val_loss: 0.7069 - val_accuracy: 0.7574\n",
      "Epoch 7/50\n",
      "704/704 [==============================] - 31s 44ms/step - loss: 0.6696 - accuracy: 0.7625 - val_loss: 0.7143 - val_accuracy: 0.7602\n",
      "Epoch 8/50\n",
      "704/704 [==============================] - 31s 44ms/step - loss: 0.6166 - accuracy: 0.7837 - val_loss: 0.7199 - val_accuracy: 0.7662\n",
      "Epoch 9/50\n",
      "704/704 [==============================] - 31s 44ms/step - loss: 0.5591 - accuracy: 0.8032 - val_loss: 0.7229 - val_accuracy: 0.7588\n",
      "Epoch 10/50\n",
      "704/704 [==============================] - 31s 44ms/step - loss: 0.4962 - accuracy: 0.8235 - val_loss: 0.6927 - val_accuracy: 0.7746\n",
      "Epoch 11/50\n",
      "704/704 [==============================] - 31s 44ms/step - loss: 0.4432 - accuracy: 0.8434 - val_loss: 0.7192 - val_accuracy: 0.7734\n",
      "Epoch 12/50\n",
      "704/704 [==============================] - 32s 46ms/step - loss: 0.3875 - accuracy: 0.8621 - val_loss: 0.7071 - val_accuracy: 0.7840\n",
      "Epoch 13/50\n",
      "704/704 [==============================] - 31s 45ms/step - loss: 0.3242 - accuracy: 0.8845 - val_loss: 0.7392 - val_accuracy: 0.7802\n",
      "Epoch 14/50\n",
      "704/704 [==============================] - 32s 45ms/step - loss: 0.2813 - accuracy: 0.9000 - val_loss: 0.7588 - val_accuracy: 0.7742\n",
      "Epoch 15/50\n",
      "704/704 [==============================] - 31s 44ms/step - loss: 0.2396 - accuracy: 0.9139 - val_loss: 0.8684 - val_accuracy: 0.7750\n",
      "Epoch 16/50\n",
      "704/704 [==============================] - 31s 44ms/step - loss: 0.2109 - accuracy: 0.9250 - val_loss: 0.8436 - val_accuracy: 0.7792\n",
      "Epoch 17/50\n",
      "704/704 [==============================] - 32s 45ms/step - loss: 0.1766 - accuracy: 0.9362 - val_loss: 0.9059 - val_accuracy: 0.7740\n",
      "Epoch 18/50\n",
      "704/704 [==============================] - 32s 45ms/step - loss: 0.1556 - accuracy: 0.9440 - val_loss: 1.0073 - val_accuracy: 0.7722\n",
      "Epoch 19/50\n",
      "704/704 [==============================] - 31s 44ms/step - loss: 0.1389 - accuracy: 0.9503 - val_loss: 1.0519 - val_accuracy: 0.7720\n",
      "Epoch 20/50\n",
      "704/704 [==============================] - 31s 44ms/step - loss: 0.1212 - accuracy: 0.9564 - val_loss: 1.0672 - val_accuracy: 0.7704\n",
      "Epoch 21/50\n",
      "704/704 [==============================] - 31s 44ms/step - loss: 0.1110 - accuracy: 0.9607 - val_loss: 1.0773 - val_accuracy: 0.7788\n",
      "Epoch 22/50\n",
      "704/704 [==============================] - 31s 44ms/step - loss: 0.0952 - accuracy: 0.9657 - val_loss: 1.1411 - val_accuracy: 0.7770\n",
      "Epoch 23/50\n",
      "704/704 [==============================] - 31s 44ms/step - loss: 0.0842 - accuracy: 0.9702 - val_loss: 1.1469 - val_accuracy: 0.7760\n",
      "Epoch 24/50\n",
      "704/704 [==============================] - 31s 44ms/step - loss: 0.0827 - accuracy: 0.9713 - val_loss: 1.2465 - val_accuracy: 0.7688\n",
      "Epoch 25/50\n",
      "704/704 [==============================] - 31s 44ms/step - loss: 0.0774 - accuracy: 0.9720 - val_loss: 1.2205 - val_accuracy: 0.7776\n",
      "Epoch 26/50\n",
      "704/704 [==============================] - 31s 45ms/step - loss: 0.0851 - accuracy: 0.9705 - val_loss: 1.1941 - val_accuracy: 0.7762\n",
      "Epoch 27/50\n",
      "704/704 [==============================] - 31s 45ms/step - loss: 0.0693 - accuracy: 0.9753 - val_loss: 1.2095 - val_accuracy: 0.7740\n",
      "Epoch 28/50\n",
      "704/704 [==============================] - 31s 44ms/step - loss: 0.0595 - accuracy: 0.9789 - val_loss: 1.3095 - val_accuracy: 0.7766\n",
      "Epoch 29/50\n",
      "704/704 [==============================] - 31s 44ms/step - loss: 0.0584 - accuracy: 0.9799 - val_loss: 1.2909 - val_accuracy: 0.7772\n",
      "Epoch 30/50\n",
      "704/704 [==============================] - 31s 44ms/step - loss: 0.0521 - accuracy: 0.9815 - val_loss: 1.3509 - val_accuracy: 0.7778\n",
      "Epoch 31/50\n",
      "704/704 [==============================] - 31s 44ms/step - loss: 0.0571 - accuracy: 0.9802 - val_loss: 1.3764 - val_accuracy: 0.7690\n",
      "Epoch 32/50\n",
      "704/704 [==============================] - 32s 46ms/step - loss: 0.0537 - accuracy: 0.9814 - val_loss: 1.3391 - val_accuracy: 0.7834\n",
      "Epoch 33/50\n",
      "704/704 [==============================] - 32s 46ms/step - loss: 0.0501 - accuracy: 0.9830 - val_loss: 1.4012 - val_accuracy: 0.7800\n",
      "Epoch 34/50\n",
      "704/704 [==============================] - 32s 45ms/step - loss: 0.0448 - accuracy: 0.9846 - val_loss: 1.3975 - val_accuracy: 0.7708\n",
      "Epoch 35/50\n",
      "704/704 [==============================] - 31s 44ms/step - loss: 0.0436 - accuracy: 0.9843 - val_loss: 1.4472 - val_accuracy: 0.7782\n",
      "Epoch 36/50\n",
      "704/704 [==============================] - 31s 45ms/step - loss: 0.0603 - accuracy: 0.9800 - val_loss: 1.3382 - val_accuracy: 0.7824\n",
      "Epoch 37/50\n",
      "704/704 [==============================] - 31s 45ms/step - loss: 0.0448 - accuracy: 0.9841 - val_loss: 1.3503 - val_accuracy: 0.7804\n",
      "Epoch 38/50\n",
      "704/704 [==============================] - 32s 45ms/step - loss: 0.0413 - accuracy: 0.9859 - val_loss: 1.3914 - val_accuracy: 0.7772\n",
      "Epoch 39/50\n",
      "704/704 [==============================] - 31s 45ms/step - loss: 0.0360 - accuracy: 0.9872 - val_loss: 1.4119 - val_accuracy: 0.7788\n",
      "Epoch 40/50\n",
      "704/704 [==============================] - 31s 45ms/step - loss: 0.0367 - accuracy: 0.9873 - val_loss: 1.3795 - val_accuracy: 0.7798\n",
      "Epoch 41/50\n",
      "704/704 [==============================] - 32s 45ms/step - loss: 0.0396 - accuracy: 0.9864 - val_loss: 1.5130 - val_accuracy: 0.7806\n",
      "Epoch 42/50\n",
      "704/704 [==============================] - 32s 46ms/step - loss: 0.0395 - accuracy: 0.9866 - val_loss: 1.4420 - val_accuracy: 0.7772\n",
      "Epoch 43/50\n",
      "704/704 [==============================] - 31s 44ms/step - loss: 0.0392 - accuracy: 0.9867 - val_loss: 1.4442 - val_accuracy: 0.7790\n",
      "Epoch 44/50\n",
      "704/704 [==============================] - 31s 44ms/step - loss: 0.0334 - accuracy: 0.9884 - val_loss: 1.4902 - val_accuracy: 0.7858\n",
      "Epoch 45/50\n",
      "704/704 [==============================] - 31s 44ms/step - loss: 0.0307 - accuracy: 0.9894 - val_loss: 1.6018 - val_accuracy: 0.7780\n",
      "Epoch 46/50\n",
      "704/704 [==============================] - 32s 46ms/step - loss: 0.0499 - accuracy: 0.9834 - val_loss: 1.4088 - val_accuracy: 0.7818\n",
      "Epoch 47/50\n",
      "704/704 [==============================] - 31s 44ms/step - loss: 0.0448 - accuracy: 0.9841 - val_loss: 1.4173 - val_accuracy: 0.7810\n",
      "Epoch 48/50\n",
      "704/704 [==============================] - 31s 44ms/step - loss: 0.0358 - accuracy: 0.9878 - val_loss: 1.4309 - val_accuracy: 0.7814\n",
      "Epoch 49/50\n",
      "704/704 [==============================] - 31s 45ms/step - loss: 0.0343 - accuracy: 0.9875 - val_loss: 1.4230 - val_accuracy: 0.7828\n",
      "Epoch 50/50\n",
      "704/704 [==============================] - 31s 44ms/step - loss: 0.0267 - accuracy: 0.9907 - val_loss: 1.3989 - val_accuracy: 0.7780\n"
     ]
    },
    {
     "data": {
      "image/png": "[encoded data removed]",
      "text/plain": [
       "<Figure size 432x288 with 1 Axes>"
      ]
     },
     "metadata": {
      "needs_background": "light"
     },
     "output_type": "display_data"
    }
   ],
   "source": [
    "import keras\n",
    "from matplotlib import pyplot as plt\n",
    "history = model10.fit(x_train, y_train,validation_split = 0.1, epochs=50, batch_size=64)\n",
    "plt.plot(history.history['accuracy'])\n",
    "plt.plot(history.history['val_accuracy'])\n",
    "plt.title('model accuracy')\n",
    "plt.ylabel('accuracy')\n",
    "plt.xlabel('epoch')\n",
    "plt.legend(['train', 'val'], loc='upper left')\n",
    "plt.show()"
   ]
  },
  {
   "cell_type": "code",
   "execution_count": 26,
   "id": "6f64340b",
   "metadata": {},
   "outputs": [
    {
     "data": {
      "image/png": "[encoded data removed]",
      "text/plain": [
       "<Figure size 432x288 with 1 Axes>"
      ]
     },
     "metadata": {
      "needs_background": "light"
     },
     "output_type": "display_data"
    }
   ],
   "source": [
    "plt.plot(history.history['loss'])\n",
    "plt.plot(history.history['val_loss'])\n",
    "plt.title('model loss')\n",
    "plt.ylabel('loss')\n",
    "plt.xlabel('epoch')\n",
    "plt.legend(['train', 'val'], loc='upper left')\n",
    "plt.show()"
   ]
  },
  {
   "cell_type": "code",
   "execution_count": 105,
   "id": "b565e754",
   "metadata": {},
   "outputs": [],
   "source": [
    "model101 = tf.keras.Sequential([\n",
    "   \n",
    "    keras.layers.InputLayer( input_shape=(32, 32,3)),    \n",
    "    keras.layers.Conv2D(filters=12, kernel_size=(3, 3), activation='relu'),\n",
    "    keras.layers.MaxPooling2D(pool_size=(2, 2)),\n",
    "    tf.keras.layers.Conv2D(64,kernel_size=(3,3), activation=\"relu\"),\n",
    "    tf.keras.layers.Conv2D(128,kernel_size=(3,3), activation=\"relu\"),\n",
    "    tf.keras.layers.MaxPooling2D(pool_size=(2, 2)),\n",
    "    tf.keras.layers.Conv2D(256,kernel_size=(3,3), activation=\"relu\"),\n",
    "    tf.keras.layers.MaxPooling2D(pool_size=(2, 2)),\n",
    "    tf.keras.layers.Dense(1028, activation=\"relu\"),\n",
    "    tf.keras.layers.Flatten(),\n",
    "    tf.keras.layers.Dense(10, activation=\"softmax\")\n",
    "    \n",
    "    \n",
    "       \n",
    "])"
   ]
  },
  {
   "cell_type": "code",
   "execution_count": 106,
   "id": "f89ae442",
   "metadata": {},
   "outputs": [],
   "source": [
    "loss_fn = tf.keras.losses.SparseCategoricalCrossentropy(from_logits=True)"
   ]
  },
  {
   "cell_type": "code",
   "execution_count": 107,
   "id": "a0575939",
   "metadata": {},
   "outputs": [],
   "source": [
    "model101.compile(optimizer='adam',\n",
    "              loss=loss_fn,\n",
    "              metrics=['accuracy'])"
   ]
  },
  {
   "cell_type": "code",
   "execution_count": 112,
   "id": "1abd8846",
   "metadata": {},
   "outputs": [
    {
     "name": "stdout",
     "output_type": "stream",
     "text": [
      "Epoch 1/5\n",
      "625/625 [==============================] - 4s 6ms/step - loss: 1.7970 - accuracy: 0.3241\n",
      "Epoch 2/5\n",
      "625/625 [==============================] - 3s 5ms/step - loss: 1.4478 - accuracy: 0.4712\n",
      "Epoch 3/5\n",
      "625/625 [==============================] - 3s 5ms/step - loss: 1.2674 - accuracy: 0.5437\n",
      "Epoch 4/5\n",
      "625/625 [==============================] - 3s 5ms/step - loss: 1.1408 - accuracy: 0.5938\n",
      "Epoch 5/5\n",
      "625/625 [==============================] - 3s 5ms/step - loss: 1.0145 - accuracy: 0.6405\n"
     ]
    },
    {
     "data": {
      "text/plain": [
       "<keras.callbacks.History at 0x17e4b183460>"
      ]
     },
     "execution_count": 112,
     "metadata": {},
     "output_type": "execute_result"
    }
   ],
   "source": [
    "model101.fit(x_train[:20000], y_train[:20000], batch_size=32, epochs=5)"
   ]
  },
  {
   "cell_type": "code",
   "execution_count": 115,
   "id": "53fbedc1",
   "metadata": {},
   "outputs": [
    {
     "name": "stdout",
     "output_type": "stream",
     "text": [
      "157/157 - 1s - loss: 1.2033 - accuracy: 0.5926 - 817ms/epoch - 5ms/step\n"
     ]
    },
    {
     "data": {
      "text/plain": [
       "[1.2033175230026245, 0.5925999879837036]"
      ]
     },
     "execution_count": 115,
     "metadata": {},
     "output_type": "execute_result"
    }
   ],
   "source": [
    "model101.evaluate(x_test[:5000], y_test[:5000], verbose=2)"
   ]
  },
  {
   "cell_type": "code",
   "execution_count": 116,
   "id": "f05782fd",
   "metadata": {},
   "outputs": [
    {
     "data": {
      "image/png": "[encoded data removed]",
      "text/plain": [
       "<PIL.Image.Image image mode=RGBA size=511x196 at 0x17EC8C53C40>"
      ]
     },
     "execution_count": 116,
     "metadata": {},
     "output_type": "execute_result"
    }
   ],
   "source": [
    "visualkeras.layered_view(model101, legend=True)"
   ]
  },
  {
   "cell_type": "code",
   "execution_count": 126,
   "id": "5e19cbb7",
   "metadata": {},
   "outputs": [
    {
     "name": "stdout",
     "output_type": "stream",
     "text": [
      "Model: \"sequential_12\"\n",
      "_________________________________________________________________\n",
      " Layer (type)                Output Shape              Param #   \n",
      "=================================================================\n",
      " conv2d_39 (Conv2D)          (None, 30, 30, 12)        336       \n",
      "                                                                 \n",
      " max_pooling2d_26 (MaxPoolin  (None, 15, 15, 12)       0         \n",
      " g2D)                                                            \n",
      "                                                                 \n",
      " conv2d_40 (Conv2D)          (None, 13, 13, 64)        6976      \n",
      "                                                                 \n",
      " conv2d_41 (Conv2D)          (None, 11, 11, 128)       73856     \n",
      "                                                                 \n",
      " max_pooling2d_27 (MaxPoolin  (None, 5, 5, 128)        0         \n",
      " g2D)                                                            \n",
      "                                                                 \n",
      " conv2d_42 (Conv2D)          (None, 3, 3, 256)         295168    \n",
      "                                                                 \n",
      " max_pooling2d_28 (MaxPoolin  (None, 1, 1, 256)        0         \n",
      " g2D)                                                            \n",
      "                                                                 \n",
      " dense_31 (Dense)            (None, 1, 1, 1028)        264196    \n",
      "                                                                 \n",
      " flatten_16 (Flatten)        (None, 1028)              0         \n",
      "                                                                 \n",
      " dense_32 (Dense)            (None, 10)                10290     \n",
      "                                                                 \n",
      "=================================================================\n",
      "Total params: 650,822\n",
      "Trainable params: 650,822\n",
      "Non-trainable params: 0\n",
      "_________________________________________________________________\n"
     ]
    }
   ],
   "source": [
    "model101.summary()"
   ]
  },
  {
   "cell_type": "code",
   "execution_count": 125,
   "id": "bfeeb355",
   "metadata": {},
   "outputs": [
    {
     "ename": "InternalError",
     "evalue": "Failed copying input tensor from /job:localhost/replica:0/task:0/device:CPU:0 to /job:localhost/replica:0/task:0/device:GPU:0 in order to run _EagerConst: Dst tensor is not initialized.",
     "output_type": "error",
     "traceback": [
      "\u001b[1;31m---------------------------------------------------------------------------\u001b[0m",
      "\u001b[1;31mInternalError\u001b[0m                             Traceback (most recent call last)",
      "Input \u001b[1;32mIn [125]\u001b[0m, in \u001b[0;36m<cell line: 3>\u001b[1;34m()\u001b[0m\n\u001b[0;32m      1\u001b[0m \u001b[38;5;28;01mimport\u001b[39;00m \u001b[38;5;21;01mkeras\u001b[39;00m\n\u001b[0;32m      2\u001b[0m \u001b[38;5;28;01mfrom\u001b[39;00m \u001b[38;5;21;01mmatplotlib\u001b[39;00m \u001b[38;5;28;01mimport\u001b[39;00m pyplot \u001b[38;5;28;01mas\u001b[39;00m plt\n\u001b[1;32m----> 3\u001b[0m history \u001b[38;5;241m=\u001b[39m \u001b[43mmodel101\u001b[49m\u001b[38;5;241;43m.\u001b[39;49m\u001b[43mfit\u001b[49m\u001b[43m(\u001b[49m\u001b[43mx_train\u001b[49m\u001b[43m,\u001b[49m\u001b[43m \u001b[49m\u001b[43my_train\u001b[49m\u001b[43m,\u001b[49m\u001b[43m \u001b[49m\u001b[43mepochs\u001b[49m\u001b[38;5;241;43m=\u001b[39;49m\u001b[38;5;241;43m10\u001b[39;49m\u001b[43m,\u001b[49m\u001b[43m \u001b[49m\u001b[43mbatch_size\u001b[49m\u001b[38;5;241;43m=\u001b[39;49m\u001b[38;5;241;43m32\u001b[39;49m\u001b[43m)\u001b[49m\n\u001b[0;32m      4\u001b[0m plt\u001b[38;5;241m.\u001b[39mplot(history\u001b[38;5;241m.\u001b[39mhistory[\u001b[38;5;124m'\u001b[39m\u001b[38;5;124maccuracy\u001b[39m\u001b[38;5;124m'\u001b[39m])\n\u001b[0;32m      5\u001b[0m plt\u001b[38;5;241m.\u001b[39mplot(history\u001b[38;5;241m.\u001b[39mhistory[\u001b[38;5;124m'\u001b[39m\u001b[38;5;124mval_accuracy\u001b[39m\u001b[38;5;124m'\u001b[39m])\n",
      "File \u001b[1;32m~\\AppData\\Roaming\\Python\\Python39\\site-packages\\keras\\utils\\traceback_utils.py:70\u001b[0m, in \u001b[0;36mfilter_traceback.<locals>.error_handler\u001b[1;34m(*args, **kwargs)\u001b[0m\n\u001b[0;32m     67\u001b[0m     filtered_tb \u001b[38;5;241m=\u001b[39m _process_traceback_frames(e\u001b[38;5;241m.\u001b[39m__traceback__)\n\u001b[0;32m     68\u001b[0m     \u001b[38;5;66;03m# To get the full stack trace, call:\u001b[39;00m\n\u001b[0;32m     69\u001b[0m     \u001b[38;5;66;03m# `tf.debugging.disable_traceback_filtering()`\u001b[39;00m\n\u001b[1;32m---> 70\u001b[0m     \u001b[38;5;28;01mraise\u001b[39;00m e\u001b[38;5;241m.\u001b[39mwith_traceback(filtered_tb) \u001b[38;5;28;01mfrom\u001b[39;00m \u001b[38;5;28mNone\u001b[39m\n\u001b[0;32m     71\u001b[0m \u001b[38;5;28;01mfinally\u001b[39;00m:\n\u001b[0;32m     72\u001b[0m     \u001b[38;5;28;01mdel\u001b[39;00m filtered_tb\n",
      "File \u001b[1;32m~\\AppData\\Roaming\\Python\\Python39\\site-packages\\tensorflow\\python\\framework\\constant_op.py:102\u001b[0m, in \u001b[0;36mconvert_to_eager_tensor\u001b[1;34m(value, ctx, dtype)\u001b[0m\n\u001b[0;32m    100\u001b[0m     dtype \u001b[38;5;241m=\u001b[39m dtypes\u001b[38;5;241m.\u001b[39mas_dtype(dtype)\u001b[38;5;241m.\u001b[39mas_datatype_enum\n\u001b[0;32m    101\u001b[0m ctx\u001b[38;5;241m.\u001b[39mensure_initialized()\n\u001b[1;32m--> 102\u001b[0m \u001b[38;5;28;01mreturn\u001b[39;00m \u001b[43mops\u001b[49m\u001b[38;5;241;43m.\u001b[39;49m\u001b[43mEagerTensor\u001b[49m\u001b[43m(\u001b[49m\u001b[43mvalue\u001b[49m\u001b[43m,\u001b[49m\u001b[43m \u001b[49m\u001b[43mctx\u001b[49m\u001b[38;5;241;43m.\u001b[39;49m\u001b[43mdevice_name\u001b[49m\u001b[43m,\u001b[49m\u001b[43m \u001b[49m\u001b[43mdtype\u001b[49m\u001b[43m)\u001b[49m\n",
      "\u001b[1;31mInternalError\u001b[0m: Failed copying input tensor from /job:localhost/replica:0/task:0/device:CPU:0 to /job:localhost/replica:0/task:0/device:GPU:0 in order to run _EagerConst: Dst tensor is not initialized."
     ]
    }
   ],
   "source": [
    "import keras\n",
    "from matplotlib import pyplot as plt\n",
    "history = model101.fit(x_train, y_train, epochs=10, batch_size=32)\n",
    "plt.plot(history.history['accuracy'])\n",
    "plt.plot(history.history['val_accuracy'])\n",
    "plt.title('model accuracy')\n",
    "plt.ylabel('accuracy')\n",
    "plt.xlabel('epoch')\n",
    "plt.legend(['train', 'val'], loc='upper left')\n",
    "plt.show()"
   ]
  },
  {
   "cell_type": "code",
   "execution_count": 101,
   "id": "00c48aa7",
   "metadata": {},
   "outputs": [
    {
     "data": {
      "image/png": "[encoded data removed]",
      "text/plain": [
       "<Figure size 432x288 with 1 Axes>"
      ]
     },
     "metadata": {
      "needs_background": "light"
     },
     "output_type": "display_data"
    }
   ],
   "source": [
    "plt.plot(history.history['loss'])\n",
    "plt.plot(history.history['val_loss'])\n",
    "plt.title('model loss')\n",
    "plt.ylabel('loss')\n",
    "plt.xlabel('epoch')\n",
    "plt.legend(['train', 'val'], loc='upper left')\n",
    "plt.show()"
   ]
  },
  {
   "cell_type": "code",
   "execution_count": null,
   "id": "3e9816d6",
   "metadata": {},
   "outputs": [],
   "source": [
    "base_model=model10\n",
    "\n",
    "quant_aware_model = tfmot.quantization.keras.quantize_model(base_model)\n",
    "quant_aware_model.summary()"
   ]
  },
  {
   "cell_type": "code",
   "execution_count": 86,
   "id": "fff08bf6",
   "metadata": {},
   "outputs": [],
   "source": [
    "LastValueQuantizer = tfmot.quantization.keras.quantizers.LastValueQuantizer\n",
    "MovingAverageQuantizer = tfmot.quantization.keras.quantizers.MovingAverageQuantizer\n",
    "\n",
    "class DefaultDenseQuantizeConfig(tfmot.quantization.keras.QuantizeConfig):\n",
    "    # Configure how to quantize weights.\n",
    "    def get_weights_and_quantizers(self, layer):\n",
    "      return [(layer.kernel, LastValueQuantizer(num_bits=8, symmetric=True, narrow_range=False, per_axis=False))]\n",
    "\n",
    "    # Configure how to quantize activations.\n",
    "    def get_activations_and_quantizers(self, layer):\n",
    "      return [(layer.activation, MovingAverageQuantizer(num_bits=8, symmetric=False, narrow_range=False, per_axis=False))]\n",
    "\n",
    "    def set_quantize_weights(self, layer, quantize_weights):\n",
    "      # Add this line for each item returned in `get_weights_and_quantizers`\n",
    "      # , in the same order\n",
    "      layer.kernel = quantize_weights[0]\n",
    "\n",
    "    def set_quantize_activations(self, layer, quantize_activations):\n",
    "      # Add this line for each item returned in `get_activations_and_quantizers`\n",
    "      # , in the same order.\n",
    "      layer.activation = quantize_activations[0]\n",
    "\n",
    "    # Configure how to quantize outputs (may be equivalent to activations).\n",
    "    def get_output_quantizers(self, layer):\n",
    "      return []\n",
    "\n",
    "    def get_config(self):\n",
    "      return {}"
   ]
  },
  {
   "cell_type": "code",
   "execution_count": 87,
   "id": "6ebe48a9",
   "metadata": {},
   "outputs": [],
   "source": [
    "quantize_annotate_layer = tfmot.quantization.keras.quantize_annotate_layer\n",
    "quantize_annotate_model = tfmot.quantization.keras.quantize_annotate_model\n",
    "quantize_scope = tfmot.quantization.keras.quantize_scope\n",
    "\n",
    "class FixedRangeQuantizer(tfmot.quantization.keras.quantizers.Quantizer):\n",
    "  \"\"\"Quantizer which forces outputs to be between -1 and 1.\"\"\"\n",
    "\n",
    "  def build(self, tensor_shape, name, layer):\n",
    "    # Not needed. No new TensorFlow variables needed.\n",
    "    return {}\n",
    "\n",
    "  def __call__(self, inputs, training, weights, **kwargs):\n",
    "    return tf.keras.backend.clip(inputs, -1.0, 1.0)\n",
    "\n",
    "  def get_config(self):\n",
    "    # Not needed. No __init__ parameters to serialize.\n",
    "    return {}\n",
    "\n",
    "\n",
    "class ModifiedDenseQuantizeConfig(DefaultDenseQuantizeConfig):\n",
    "    # Configure weights to quantize with 4-bit instead of 8-bits.\n",
    "    def get_weights_and_quantizers(self, layer):\n",
    "      # Use custom algorithm defined in `FixedRangeQuantizer` instead of default Quantizer.\n",
    "      return [(layer.kernel, FixedRangeQuantizer())]"
   ]
  },
  {
   "cell_type": "code",
   "execution_count": 88,
   "id": "518685e6",
   "metadata": {},
   "outputs": [
    {
     "name": "stdout",
     "output_type": "stream",
     "text": [
      "Model: \"sequential_10\"\n",
      "_________________________________________________________________\n",
      " Layer (type)                Output Shape              Param #   \n",
      "=================================================================\n",
      " quantize_layer_7 (QuantizeL  (None, 32, 32, 3)        3         \n",
      " ayer)                                                           \n",
      "                                                                 \n",
      " quant_dense_26 (QuantizeWra  (None, 32, 32, 30)       123       \n",
      " pperV2)                                                         \n",
      "                                                                 \n",
      " quant_conv2d_31 (QuantizeWr  (None, 30, 30, 12)       3279      \n",
      " apperV2)                                                        \n",
      "                                                                 \n",
      " quant_max_pooling2d_20 (Qua  (None, 15, 15, 12)       1         \n",
      " ntizeWrapperV2)                                                 \n",
      "                                                                 \n",
      " quant_conv2d_32 (QuantizeWr  (None, 13, 13, 64)       7107      \n",
      " apperV2)                                                        \n",
      "                                                                 \n",
      " quant_conv2d_33 (QuantizeWr  (None, 11, 11, 128)      74115     \n",
      " apperV2)                                                        \n",
      "                                                                 \n",
      " quant_max_pooling2d_21 (Qua  (None, 5, 5, 128)        1         \n",
      " ntizeWrapperV2)                                                 \n",
      "                                                                 \n",
      " quant_conv2d_34 (QuantizeWr  (None, 3, 3, 256)        295683    \n",
      " apperV2)                                                        \n",
      "                                                                 \n",
      " quant_max_pooling2d_22 (Qua  (None, 1, 1, 256)        1         \n",
      " ntizeWrapperV2)                                                 \n",
      "                                                                 \n",
      " quant_dense_27 (QuantizeWra  (None, 1, 1, 1028)       264201    \n",
      " pperV2)                                                         \n",
      "                                                                 \n",
      " quant_flatten_14 (QuantizeW  (None, 1028)             1         \n",
      " rapperV2)                                                       \n",
      "                                                                 \n",
      " quant_dense_28 (QuantizeWra  (None, 10)               10295     \n",
      " pperV2)                                                         \n",
      "                                                                 \n",
      "=================================================================\n",
      "Total params: 654,810\n",
      "Trainable params: 653,858\n",
      "Non-trainable params: 952\n",
      "_________________________________________________________________\n"
     ]
    }
   ],
   "source": [
    "model = quantize_annotate_model(tf.keras.Sequential([\n",
    "   \n",
    "    keras.layers.InputLayer( input_shape=(32, 32,3)),\n",
    "    #keras.layers.Reshape(target_shape=(32, 32, 3)),\n",
    "      # Pass in modified `QuantizeConfig` to modify this `Dense` layer.\n",
    "    quantize_annotate_layer(tf.keras.layers.Dense(30,), ModifiedDenseQuantizeConfig()),\n",
    "    \n",
    "    keras.layers.Conv2D(filters=12, kernel_size=(3, 3), activation='relu'),\n",
    "    keras.layers.MaxPooling2D(pool_size=(2, 2)),\n",
    "    tf.keras.layers.Conv2D(64,kernel_size=(3,3), activation=\"relu\"),\n",
    "    tf.keras.layers.Conv2D(128,kernel_size=(3,3), activation=\"relu\"),\n",
    "    tf.keras.layers.MaxPooling2D(pool_size=(2, 2)),\n",
    "    tf.keras.layers.Conv2D(256,kernel_size=(3,3), activation=\"relu\"),\n",
    "    tf.keras.layers.MaxPooling2D(pool_size=(2, 2)),\n",
    "    tf.keras.layers.Dense(1028, activation=\"relu\"),\n",
    "    tf.keras.layers.Flatten(),\n",
    "    tf.keras.layers.Dense(10, activation=\"softmax\")\n",
    "    \n",
    "    \n",
    "       \n",
    "]))\n",
    "\n",
    "# `quantize_apply` requires mentioning `ModifiedDenseQuantizeConfig` with `quantize_scope`:\n",
    "with quantize_scope(\n",
    "  {'ModifiedDenseQuantizeConfig': ModifiedDenseQuantizeConfig}):\n",
    "  # Use `quantize_apply` to actually make the model quantization aware.\n",
    "  quant_aware_model_12 = tfmot.quantization.keras.quantize_apply(model)\n",
    "\n",
    "quant_aware_model_12.summary()"
   ]
  },
  {
   "cell_type": "code",
   "execution_count": 89,
   "id": "fa65f359",
   "metadata": {},
   "outputs": [
    {
     "name": "stdout",
     "output_type": "stream",
     "text": [
      "Model: \"sequential_10\"\n",
      "_________________________________________________________________\n",
      " Layer (type)                Output Shape              Param #   \n",
      "=================================================================\n",
      " quantize_layer_7 (QuantizeL  (None, 32, 32, 3)        3         \n",
      " ayer)                                                           \n",
      "                                                                 \n",
      " quant_dense_26 (QuantizeWra  (None, 32, 32, 30)       123       \n",
      " pperV2)                                                         \n",
      "                                                                 \n",
      " quant_conv2d_31 (QuantizeWr  (None, 30, 30, 12)       3279      \n",
      " apperV2)                                                        \n",
      "                                                                 \n",
      " quant_max_pooling2d_20 (Qua  (None, 15, 15, 12)       1         \n",
      " ntizeWrapperV2)                                                 \n",
      "                                                                 \n",
      " quant_conv2d_32 (QuantizeWr  (None, 13, 13, 64)       7107      \n",
      " apperV2)                                                        \n",
      "                                                                 \n",
      " quant_conv2d_33 (QuantizeWr  (None, 11, 11, 128)      74115     \n",
      " apperV2)                                                        \n",
      "                                                                 \n",
      " quant_max_pooling2d_21 (Qua  (None, 5, 5, 128)        1         \n",
      " ntizeWrapperV2)                                                 \n",
      "                                                                 \n",
      " quant_conv2d_34 (QuantizeWr  (None, 3, 3, 256)        295683    \n",
      " apperV2)                                                        \n",
      "                                                                 \n",
      " quant_max_pooling2d_22 (Qua  (None, 1, 1, 256)        1         \n",
      " ntizeWrapperV2)                                                 \n",
      "                                                                 \n",
      " quant_dense_27 (QuantizeWra  (None, 1, 1, 1028)       264201    \n",
      " pperV2)                                                         \n",
      "                                                                 \n",
      " quant_flatten_14 (QuantizeW  (None, 1028)             1         \n",
      " rapperV2)                                                       \n",
      "                                                                 \n",
      " quant_dense_28 (QuantizeWra  (None, 10)               10295     \n",
      " pperV2)                                                         \n",
      "                                                                 \n",
      "=================================================================\n",
      "Total params: 654,810\n",
      "Trainable params: 653,858\n",
      "Non-trainable params: 952\n",
      "_________________________________________________________________\n"
     ]
    }
   ],
   "source": [
    "# `quantize_model` requires a recompile.\n",
    "quant_aware_model_12.compile(optimizer='adam',\n",
    "              loss=tf.keras.losses.SparseCategoricalCrossentropy(from_logits=True),\n",
    "              metrics=['accuracy'])\n",
    "\n",
    "quant_aware_model_12.summary()"
   ]
  },
  {
   "cell_type": "code",
   "execution_count": 90,
   "id": "571c573b",
   "metadata": {},
   "outputs": [
    {
     "name": "stdout",
     "output_type": "stream",
     "text": [
      "Epoch 1/5\n",
      "391/391 [==============================] - 14s 33ms/step - loss: 1.7161 - accuracy: 0.3623\n",
      "Epoch 2/5\n",
      "391/391 [==============================] - 12s 31ms/step - loss: 1.3286 - accuracy: 0.5260\n",
      "Epoch 3/5\n",
      "391/391 [==============================] - 12s 32ms/step - loss: 1.1500 - accuracy: 0.5943\n",
      "Epoch 4/5\n",
      "391/391 [==============================] - 12s 31ms/step - loss: 1.0189 - accuracy: 0.6428\n",
      "Epoch 5/5\n",
      "391/391 [==============================] - 12s 31ms/step - loss: 0.9124 - accuracy: 0.6802\n"
     ]
    },
    {
     "data": {
      "text/plain": [
       "<keras.callbacks.History at 0x17e4c5f7df0>"
      ]
     },
     "execution_count": 90,
     "metadata": {},
     "output_type": "execute_result"
    }
   ],
   "source": [
    "quant_aware_model_12.fit(x_train, y_train,  batch_size=128, epochs=5)"
   ]
  },
  {
   "cell_type": "code",
   "execution_count": 91,
   "id": "01ac9f88",
   "metadata": {},
   "outputs": [
    {
     "name": "stdout",
     "output_type": "stream",
     "text": [
      "313/313 - 3s - loss: 1.0050 - accuracy: 0.6541 - 3s/epoch - 9ms/step\n"
     ]
    },
    {
     "data": {
      "text/plain": [
       "[1.0049666166305542, 0.6541000008583069]"
      ]
     },
     "execution_count": 91,
     "metadata": {},
     "output_type": "execute_result"
    }
   ],
   "source": [
    "quant_aware_model_12.evaluate(x_test,  y_test, verbose=2)"
   ]
  },
  {
   "cell_type": "code",
   "execution_count": 33,
   "id": "268edf82",
   "metadata": {},
   "outputs": [
    {
     "name": "stdout",
     "output_type": "stream",
     "text": [
      "You must install pydot (`pip install pydot`) and install graphviz (see instructions at https://graphviz.gitlab.io/download/) for plot_model to work.\n"
     ]
    }
   ],
   "source": [
    "plot_model(quant_aware_model_12, show_shapes=True, show_layer_names=True)"
   ]
  },
  {
   "cell_type": "code",
   "execution_count": 34,
   "id": "c2373ba5",
   "metadata": {},
   "outputs": [
    {
     "data": {
      "image/png": "[encoded data removed]",
      "text/plain": [
       "<PIL.Image.Image image mode=RGBA size=572x207 at 0x1EFBB7B3B50>"
      ]
     },
     "execution_count": 34,
     "metadata": {},
     "output_type": "execute_result"
    }
   ],
   "source": [
    "visualkeras.layered_view(quant_aware_model_12, legend=True)"
   ]
  },
  {
   "cell_type": "code",
   "execution_count": 46,
   "id": "0caf77ac",
   "metadata": {},
   "outputs": [
    {
     "name": "stdout",
     "output_type": "stream",
     "text": [
      "Epoch 1/20\n",
      "352/352 [==============================] - 13s 36ms/step - loss: 0.5737 - accuracy: 0.8019 - val_loss: 0.8310 - val_accuracy: 0.7182\n",
      "Epoch 2/20\n",
      "352/352 [==============================] - 12s 35ms/step - loss: 0.4770 - accuracy: 0.8346 - val_loss: 0.8871 - val_accuracy: 0.7150\n",
      "Epoch 3/20\n",
      "352/352 [==============================] - 13s 38ms/step - loss: 0.4018 - accuracy: 0.8598 - val_loss: 0.9409 - val_accuracy: 0.7130\n",
      "Epoch 4/20\n",
      "352/352 [==============================] - 14s 39ms/step - loss: 0.3335 - accuracy: 0.8835 - val_loss: 1.0246 - val_accuracy: 0.6980\n",
      "Epoch 5/20\n",
      "352/352 [==============================] - 13s 38ms/step - loss: 0.2683 - accuracy: 0.9055 - val_loss: 1.1620 - val_accuracy: 0.6988\n",
      "Epoch 6/20\n",
      "352/352 [==============================] - 13s 38ms/step - loss: 0.2265 - accuracy: 0.9195 - val_loss: 1.2940 - val_accuracy: 0.6902\n",
      "Epoch 7/20\n",
      "352/352 [==============================] - 14s 39ms/step - loss: 0.1892 - accuracy: 0.9315 - val_loss: 1.3622 - val_accuracy: 0.6900\n",
      "Epoch 8/20\n",
      "352/352 [==============================] - 13s 36ms/step - loss: 0.1554 - accuracy: 0.9453 - val_loss: 1.5274 - val_accuracy: 0.6818\n",
      "Epoch 9/20\n",
      "352/352 [==============================] - 13s 38ms/step - loss: 0.1364 - accuracy: 0.9519 - val_loss: 1.6109 - val_accuracy: 0.6886\n",
      "Epoch 10/20\n",
      "352/352 [==============================] - 13s 36ms/step - loss: 0.1217 - accuracy: 0.9571 - val_loss: 1.8190 - val_accuracy: 0.6836\n",
      "Epoch 11/20\n",
      "352/352 [==============================] - 13s 36ms/step - loss: 0.1136 - accuracy: 0.9597 - val_loss: 1.8270 - val_accuracy: 0.6862\n",
      "Epoch 12/20\n",
      "352/352 [==============================] - 13s 37ms/step - loss: 0.1114 - accuracy: 0.9606 - val_loss: 1.8714 - val_accuracy: 0.6856\n",
      "Epoch 13/20\n",
      "352/352 [==============================] - 13s 37ms/step - loss: 0.0920 - accuracy: 0.9685 - val_loss: 1.9054 - val_accuracy: 0.6874\n",
      "Epoch 14/20\n",
      "352/352 [==============================] - 13s 36ms/step - loss: 0.0931 - accuracy: 0.9674 - val_loss: 1.9488 - val_accuracy: 0.6828\n",
      "Epoch 15/20\n",
      "352/352 [==============================] - 13s 36ms/step - loss: 0.0810 - accuracy: 0.9712 - val_loss: 2.1246 - val_accuracy: 0.6782\n",
      "Epoch 16/20\n",
      "352/352 [==============================] - 13s 37ms/step - loss: 0.0857 - accuracy: 0.9697 - val_loss: 2.0430 - val_accuracy: 0.6788\n",
      "Epoch 17/20\n",
      "352/352 [==============================] - 13s 36ms/step - loss: 0.0764 - accuracy: 0.9742 - val_loss: 2.2513 - val_accuracy: 0.6678\n",
      "Epoch 18/20\n",
      "352/352 [==============================] - 13s 36ms/step - loss: 0.0821 - accuracy: 0.9717 - val_loss: 2.0893 - val_accuracy: 0.6818\n",
      "Epoch 19/20\n",
      "352/352 [==============================] - 13s 36ms/step - loss: 0.0697 - accuracy: 0.9761 - val_loss: 2.1775 - val_accuracy: 0.6722\n",
      "Epoch 20/20\n",
      "352/352 [==============================] - 13s 36ms/step - loss: 0.0740 - accuracy: 0.9741 - val_loss: 2.3402 - val_accuracy: 0.6802\n"
     ]
    },
    {
     "data": {
      "image/png": "[encoded data removed]",
      "text/plain": [
       "<Figure size 432x288 with 1 Axes>"
      ]
     },
     "metadata": {
      "needs_background": "light"
     },
     "output_type": "display_data"
    }
   ],
   "source": [
    "import keras\n",
    "from matplotlib import pyplot as plt\n",
    "#history = quant_aware_model_12.fit(x_train, y_train, epochs=10, batch_size=64)\n",
    "history = quant_aware_model_12.fit(x_train, y_train, validation_split = 0.1, batch_size=128, epochs=20)\n",
    "plt.plot(history.history['accuracy'])\n",
    "plt.plot(history.history['val_accuracy'])\n",
    "plt.title('model accuracy')\n",
    "plt.ylabel('accuracy')\n",
    "plt.xlabel('epoch')\n",
    "plt.legend(['train', 'validation'], loc='upper left')\n",
    "plt.show()"
   ]
  },
  {
   "cell_type": "code",
   "execution_count": 52,
   "id": "cbcfd217",
   "metadata": {},
   "outputs": [
    {
     "data": {
      "image/png": "[encoded data removed]",
      "text/plain": [
       "<Figure size 432x288 with 1 Axes>"
      ]
     },
     "metadata": {
      "needs_background": "light"
     },
     "output_type": "display_data"
    }
   ],
   "source": [
    "plt.plot(history.history['loss'])\n",
    "plt.plot(history.history['val_loss'])\n",
    "plt.title('Quantize model loss')\n",
    "plt.ylabel('loss')\n",
    "plt.xlabel('epoch')\n",
    "plt.legend(['train', 'val'], loc='upper left')\n",
    "plt.show()"
   ]
  },
  {
   "cell_type": "code",
   "execution_count": 9,
   "id": "a659083e",
   "metadata": {},
   "outputs": [
    {
     "name": "stdout",
     "output_type": "stream",
     "text": [
      "Model: \"sequential_1\"\n",
      "_________________________________________________________________\n",
      " Layer (type)                Output Shape              Param #   \n",
      "=================================================================\n",
      " quantize_layer_1 (QuantizeL  (None, 32, 32, 3)        3         \n",
      " ayer)                                                           \n",
      "                                                                 \n",
      " quant_dense_3 (QuantizeWrap  (None, 32, 32, 30)       123       \n",
      " perV2)                                                          \n",
      "                                                                 \n",
      " quant_conv2d_4 (QuantizeWra  (None, 30, 30, 256)      69891     \n",
      " pperV2)                                                         \n",
      "                                                                 \n",
      " quant_conv2d_5 (QuantizeWra  (None, 28, 28, 64)       147651    \n",
      " pperV2)                                                         \n",
      "                                                                 \n",
      " quant_conv2d_6 (QuantizeWra  (None, 26, 26, 128)      74115     \n",
      " pperV2)                                                         \n",
      "                                                                 \n",
      " quant_max_pooling2d_3 (Quan  (None, 13, 13, 128)      1         \n",
      " tizeWrapperV2)                                                  \n",
      "                                                                 \n",
      " quant_conv2d_7 (QuantizeWra  (None, 11, 11, 256)      295683    \n",
      " pperV2)                                                         \n",
      "                                                                 \n",
      " quant_max_pooling2d_4 (Quan  (None, 5, 5, 256)        1         \n",
      " tizeWrapperV2)                                                  \n",
      "                                                                 \n",
      " quant_flatten_1 (QuantizeWr  (None, 6400)             1         \n",
      " apperV2)                                                        \n",
      "                                                                 \n",
      " quant_dense_4 (QuantizeWrap  (None, 512)              3277317   \n",
      " perV2)                                                          \n",
      "                                                                 \n",
      " quant_dropout (QuantizeWrap  (None, 512)              1         \n",
      " perV2)                                                          \n",
      "                                                                 \n",
      " quant_flatten_2 (QuantizeWr  (None, 512)              1         \n",
      " apperV2)                                                        \n",
      "                                                                 \n",
      " quant_dense_5 (QuantizeWrap  (None, 1028)             527369    \n",
      " perV2)                                                          \n",
      "                                                                 \n",
      " quant_dropout_1 (QuantizeWr  (None, 1028)             1         \n",
      " apperV2)                                                        \n",
      "                                                                 \n",
      " quant_dense_6 (QuantizeWrap  (None, 10)               10295     \n",
      " perV2)                                                          \n",
      "                                                                 \n",
      "=================================================================\n",
      "Total params: 4,402,453\n",
      "Trainable params: 4,401,006\n",
      "Non-trainable params: 1,447\n",
      "_________________________________________________________________\n"
     ]
    }
   ],
   "source": [
    " model = quantize_annotate_model(tf.keras.Sequential([\n",
    "   \n",
    "             keras.layers.InputLayer( input_shape=(32, 32,3)),\n",
    "    #keras.layers.Reshape(target_shape=(32, 32, 3)),\n",
    "      # Pass in modified `QuantizeConfig` to modify this `Dense` layer.\n",
    "             quantize_annotate_layer(tf.keras.layers.Dense(30,), ModifiedDenseQuantizeConfig()),\n",
    "             tf.keras.layers.Conv2D(256,kernel_size=(3,3),activation=\"relu\"),\n",
    "             tf.keras.layers.Conv2D(64,kernel_size=(3,3),activation=\"relu\"),\n",
    "             tf.keras.layers.Conv2D(128,kernel_size=(3,3),activation=\"relu\"),\n",
    "             tf.keras.layers.MaxPooling2D(2,2),\n",
    "             tf.keras.layers.Conv2D(256,kernel_size=(3,3),activation=\"relu\"),\n",
    "             tf.keras.layers.MaxPooling2D(2,2),\n",
    "             tf.keras.layers.Flatten(),\n",
    "             tf.keras.layers.Dense(512, activation=\"relu\"),        \n",
    "             tf.keras.layers.Dropout(0.5),\n",
    "             tf.keras.layers.Flatten(),\n",
    "             tf.keras.layers.Dense(1028, activation=\"relu\"),            \n",
    "             tf.keras.layers.Dropout(0.5),\n",
    "             tf.keras.layers.Dense(10, activation=\"softmax\")\n",
    "     ]))\n",
    "\n",
    "# `quantize_apply` requires mentioning `ModifiedDenseQuantizeConfig` with `quantize_scope`:\n",
    "with quantize_scope(\n",
    "  {'ModifiedDenseQuantizeConfig': ModifiedDenseQuantizeConfig}):\n",
    "  # Use `quantize_apply` to actually make the model quantization aware.\n",
    "  quant_aware_model_13 = tfmot.quantization.keras.quantize_apply(model)\n",
    "\n",
    "quant_aware_model_13.summary()"
   ]
  },
  {
   "cell_type": "code",
   "execution_count": 10,
   "id": "c3e762a7",
   "metadata": {},
   "outputs": [
    {
     "name": "stdout",
     "output_type": "stream",
     "text": [
      "Model: \"sequential_1\"\n",
      "_________________________________________________________________\n",
      " Layer (type)                Output Shape              Param #   \n",
      "=================================================================\n",
      " quantize_layer_1 (QuantizeL  (None, 32, 32, 3)        3         \n",
      " ayer)                                                           \n",
      "                                                                 \n",
      " quant_dense_3 (QuantizeWrap  (None, 32, 32, 30)       123       \n",
      " perV2)                                                          \n",
      "                                                                 \n",
      " quant_conv2d_4 (QuantizeWra  (None, 30, 30, 256)      69891     \n",
      " pperV2)                                                         \n",
      "                                                                 \n",
      " quant_conv2d_5 (QuantizeWra  (None, 28, 28, 64)       147651    \n",
      " pperV2)                                                         \n",
      "                                                                 \n",
      " quant_conv2d_6 (QuantizeWra  (None, 26, 26, 128)      74115     \n",
      " pperV2)                                                         \n",
      "                                                                 \n",
      " quant_max_pooling2d_3 (Quan  (None, 13, 13, 128)      1         \n",
      " tizeWrapperV2)                                                  \n",
      "                                                                 \n",
      " quant_conv2d_7 (QuantizeWra  (None, 11, 11, 256)      295683    \n",
      " pperV2)                                                         \n",
      "                                                                 \n",
      " quant_max_pooling2d_4 (Quan  (None, 5, 5, 256)        1         \n",
      " tizeWrapperV2)                                                  \n",
      "                                                                 \n",
      " quant_flatten_1 (QuantizeWr  (None, 6400)             1         \n",
      " apperV2)                                                        \n",
      "                                                                 \n",
      " quant_dense_4 (QuantizeWrap  (None, 512)              3277317   \n",
      " perV2)                                                          \n",
      "                                                                 \n",
      " quant_dropout (QuantizeWrap  (None, 512)              1         \n",
      " perV2)                                                          \n",
      "                                                                 \n",
      " quant_flatten_2 (QuantizeWr  (None, 512)              1         \n",
      " apperV2)                                                        \n",
      "                                                                 \n",
      " quant_dense_5 (QuantizeWrap  (None, 1028)             527369    \n",
      " perV2)                                                          \n",
      "                                                                 \n",
      " quant_dropout_1 (QuantizeWr  (None, 1028)             1         \n",
      " apperV2)                                                        \n",
      "                                                                 \n",
      " quant_dense_6 (QuantizeWrap  (None, 10)               10295     \n",
      " perV2)                                                          \n",
      "                                                                 \n",
      "=================================================================\n",
      "Total params: 4,402,453\n",
      "Trainable params: 4,401,006\n",
      "Non-trainable params: 1,447\n",
      "_________________________________________________________________\n"
     ]
    }
   ],
   "source": [
    "# `quantize_model` requires a recompile.\n",
    "quant_aware_model_13.compile(optimizer='adam',\n",
    "              loss=tf.keras.losses.SparseCategoricalCrossentropy(from_logits=True),\n",
    "              metrics=['accuracy'])\n",
    "\n",
    "quant_aware_model_13.summary()"
   ]
  },
  {
   "cell_type": "code",
   "execution_count": 27,
   "id": "a3732f02",
   "metadata": {},
   "outputs": [
    {
     "name": "stdout",
     "output_type": "stream",
     "text": [
      "Epoch 1/5\n",
      "1563/1563 [==============================] - 81s 50ms/step - loss: 1.7768 - accuracy: 0.3401\n",
      "Epoch 2/5\n",
      "1563/1563 [==============================] - 85s 55ms/step - loss: 1.3492 - accuracy: 0.5156\n",
      "Epoch 3/5\n",
      "1563/1563 [==============================] - 138s 88ms/step - loss: 1.1347 - accuracy: 0.5975\n",
      "Epoch 4/5\n",
      "1563/1563 [==============================] - 232s 148ms/step - loss: 1.0081 - accuracy: 0.6484\n",
      "Epoch 5/5\n",
      "1563/1563 [==============================] - 131s 84ms/step - loss: 0.9213 - accuracy: 0.6772\n"
     ]
    },
    {
     "data": {
      "text/plain": [
       "<keras.callbacks.History at 0x1f754233e20>"
      ]
     },
     "execution_count": 27,
     "metadata": {},
     "output_type": "execute_result"
    }
   ],
   "source": [
    "quant_aware_model_13.fit(x_train, y_train,  batch_size=32, epochs=5)"
   ]
  },
  {
   "cell_type": "code",
   "execution_count": 29,
   "id": "af484f63",
   "metadata": {},
   "outputs": [
    {
     "name": "stdout",
     "output_type": "stream",
     "text": [
      "313/313 - 14s - loss: 0.8971 - accuracy: 0.6935 - 14s/epoch - 44ms/step\n"
     ]
    },
    {
     "data": {
      "text/plain": [
       "[0.8970745205879211, 0.6934999823570251]"
      ]
     },
     "execution_count": 29,
     "metadata": {},
     "output_type": "execute_result"
    }
   ],
   "source": [
    "quant_aware_model_13.evaluate(x_test,  y_test, verbose=2)"
   ]
  },
  {
   "cell_type": "code",
   "execution_count": 25,
   "id": "9b5bd82a",
   "metadata": {},
   "outputs": [
    {
     "name": "stdout",
     "output_type": "stream",
     "text": [
      "You must install pydot (`pip install pydot`) and install graphviz (see instructions at https://graphviz.gitlab.io/download/) for plot_model to work.\n"
     ]
    }
   ],
   "source": [
    "plot_model(quant_aware_model_13, show_shapes=True, show_layer_names=True)"
   ]
  },
  {
   "cell_type": "code",
   "execution_count": 54,
   "id": "bafe2223",
   "metadata": {},
   "outputs": [
    {
     "data": {
      "image/png": "[encoded data removed]",
      "text/plain": [
       "<PIL.Image.Image image mode=RGBA size=1141x207 at 0x1F041732430>"
      ]
     },
     "execution_count": 54,
     "metadata": {},
     "output_type": "execute_result"
    }
   ],
   "source": [
    "visualkeras.layered_view(quant_aware_model_13, legend=True)"
   ]
  },
  {
   "cell_type": "code",
   "execution_count": 16,
   "id": "ab0c8159",
   "metadata": {},
   "outputs": [
    {
     "name": "stdout",
     "output_type": "stream",
     "text": [
      "Epoch 1/30\n"
     ]
    },
    {
     "name": "stderr",
     "output_type": "stream",
     "text": [
      "C:\\Users\\Meskat Jahan\\AppData\\Roaming\\Python\\Python39\\site-packages\\keras\\backend.py:5582: UserWarning: \"`sparse_categorical_crossentropy` received `from_logits=True`, but the `output` argument was produced by a Softmax activation and thus does not represent logits. Was this intended?\n",
      "  output, from_logits = _get_logits(\n"
     ]
    },
    {
     "name": "stdout",
     "output_type": "stream",
     "text": [
      "704/704 [==============================] - 62s 75ms/step - loss: 1.7513 - accuracy: 0.3468 - val_loss: 1.3716 - val_accuracy: 0.5002\n",
      "Epoch 2/30\n",
      "704/704 [==============================] - 52s 75ms/step - loss: 1.3052 - accuracy: 0.5295 - val_loss: 1.0736 - val_accuracy: 0.6236\n",
      "Epoch 3/30\n",
      "704/704 [==============================] - 52s 74ms/step - loss: 1.0774 - accuracy: 0.6220 - val_loss: 0.9376 - val_accuracy: 0.6728\n",
      "Epoch 4/30\n",
      "704/704 [==============================] - 52s 74ms/step - loss: 0.9305 - accuracy: 0.6753 - val_loss: 0.8969 - val_accuracy: 0.6836\n",
      "Epoch 5/30\n",
      "704/704 [==============================] - 52s 74ms/step - loss: 0.8153 - accuracy: 0.7168 - val_loss: 0.8417 - val_accuracy: 0.7186\n",
      "Epoch 6/30\n",
      "704/704 [==============================] - 52s 74ms/step - loss: 0.7359 - accuracy: 0.7428 - val_loss: 0.8437 - val_accuracy: 0.7136\n",
      "Epoch 7/30\n",
      "704/704 [==============================] - 52s 74ms/step - loss: 0.6563 - accuracy: 0.7706 - val_loss: 0.7947 - val_accuracy: 0.7284\n",
      "Epoch 8/30\n",
      "704/704 [==============================] - 52s 74ms/step - loss: 0.5976 - accuracy: 0.7879 - val_loss: 0.8140 - val_accuracy: 0.7232\n",
      "Epoch 9/30\n",
      "704/704 [==============================] - 53s 76ms/step - loss: 0.5351 - accuracy: 0.8117 - val_loss: 0.8133 - val_accuracy: 0.7398\n",
      "Epoch 10/30\n",
      "704/704 [==============================] - 53s 75ms/step - loss: 0.4883 - accuracy: 0.8280 - val_loss: 0.8488 - val_accuracy: 0.7274\n",
      "Epoch 11/30\n",
      "704/704 [==============================] - 53s 75ms/step - loss: 0.4391 - accuracy: 0.8468 - val_loss: 0.8913 - val_accuracy: 0.7290\n",
      "Epoch 12/30\n",
      "704/704 [==============================] - 53s 75ms/step - loss: 0.4198 - accuracy: 0.8525 - val_loss: 0.8468 - val_accuracy: 0.7410\n",
      "Epoch 13/30\n",
      "704/704 [==============================] - 52s 74ms/step - loss: 0.3766 - accuracy: 0.8667 - val_loss: 0.9167 - val_accuracy: 0.7272\n",
      "Epoch 14/30\n",
      "704/704 [==============================] - 52s 74ms/step - loss: 0.3531 - accuracy: 0.8769 - val_loss: 0.9052 - val_accuracy: 0.7328\n",
      "Epoch 15/30\n",
      "704/704 [==============================] - 52s 74ms/step - loss: 0.3264 - accuracy: 0.8857 - val_loss: 0.9593 - val_accuracy: 0.7300\n",
      "Epoch 16/30\n",
      "704/704 [==============================] - 52s 74ms/step - loss: 0.3123 - accuracy: 0.8909 - val_loss: 0.9513 - val_accuracy: 0.7326\n",
      "Epoch 17/30\n",
      "704/704 [==============================] - 53s 75ms/step - loss: 0.2937 - accuracy: 0.8990 - val_loss: 0.9376 - val_accuracy: 0.7372\n",
      "Epoch 18/30\n",
      "704/704 [==============================] - 52s 74ms/step - loss: 0.2742 - accuracy: 0.9038 - val_loss: 1.0002 - val_accuracy: 0.7334\n",
      "Epoch 19/30\n",
      "704/704 [==============================] - 52s 74ms/step - loss: 0.2666 - accuracy: 0.9073 - val_loss: 1.0069 - val_accuracy: 0.7408\n",
      "Epoch 20/30\n",
      "704/704 [==============================] - 52s 75ms/step - loss: 0.2475 - accuracy: 0.9152 - val_loss: 1.0172 - val_accuracy: 0.7322\n",
      "Epoch 21/30\n",
      "704/704 [==============================] - 53s 75ms/step - loss: 0.2351 - accuracy: 0.9193 - val_loss: 1.0248 - val_accuracy: 0.7392\n",
      "Epoch 22/30\n",
      "704/704 [==============================] - 52s 74ms/step - loss: 0.2347 - accuracy: 0.9207 - val_loss: 1.0464 - val_accuracy: 0.7288\n",
      "Epoch 23/30\n",
      "704/704 [==============================] - 52s 74ms/step - loss: 0.2204 - accuracy: 0.9252 - val_loss: 1.1055 - val_accuracy: 0.7340\n",
      "Epoch 24/30\n",
      "704/704 [==============================] - 52s 74ms/step - loss: 0.2237 - accuracy: 0.9245 - val_loss: 1.1149 - val_accuracy: 0.7392\n",
      "Epoch 25/30\n",
      "704/704 [==============================] - 52s 74ms/step - loss: 0.2080 - accuracy: 0.9293 - val_loss: 1.0730 - val_accuracy: 0.7354\n",
      "Epoch 26/30\n",
      "704/704 [==============================] - 52s 75ms/step - loss: 0.2029 - accuracy: 0.9321 - val_loss: 1.0709 - val_accuracy: 0.7346\n",
      "Epoch 27/30\n",
      "704/704 [==============================] - 52s 74ms/step - loss: 0.1963 - accuracy: 0.9332 - val_loss: 1.1378 - val_accuracy: 0.7376\n",
      "Epoch 28/30\n",
      "704/704 [==============================] - 52s 74ms/step - loss: 0.2019 - accuracy: 0.9320 - val_loss: 1.1579 - val_accuracy: 0.7278\n",
      "Epoch 29/30\n",
      "704/704 [==============================] - 52s 74ms/step - loss: 0.1831 - accuracy: 0.9376 - val_loss: 1.0752 - val_accuracy: 0.7406\n",
      "Epoch 30/30\n",
      "704/704 [==============================] - 52s 74ms/step - loss: 0.1860 - accuracy: 0.9380 - val_loss: 1.1504 - val_accuracy: 0.7290\n"
     ]
    },
    {
     "data": {
      "image/png": "[encoded data removed]",
      "text/plain": [
       "<Figure size 432x288 with 1 Axes>"
      ]
     },
     "metadata": {
      "needs_background": "light"
     },
     "output_type": "display_data"
    }
   ],
   "source": [
    "import keras\n",
    "from matplotlib import pyplot as plt\n",
    "#history = quant_aware_model_12.fit(x_train, y_train, epochs=10, batch_size=64)\n",
    "history = quant_aware_model_13.fit(x_train, y_train, validation_split = 0.1, batch_size=64, epochs=30)\n",
    "plt.plot(history.history['accuracy'])\n",
    "plt.plot(history.history['val_accuracy'])\n",
    "plt.title('model accuracy')\n",
    "plt.ylabel('accuracy')\n",
    "plt.xlabel('epoch')\n",
    "plt.legend(['train', 'validation'], loc='upper left')\n",
    "plt.show()"
   ]
  },
  {
   "cell_type": "code",
   "execution_count": 17,
   "id": "39b0cbf1",
   "metadata": {},
   "outputs": [
    {
     "data": {
      "image/png": "[encoded data removed]",
      "text/plain": [
       "<Figure size 432x288 with 1 Axes>"
      ]
     },
     "metadata": {
      "needs_background": "light"
     },
     "output_type": "display_data"
    }
   ],
   "source": [
    "plt.plot(history.history['loss'])\n",
    "plt.plot(history.history['val_loss'])\n",
    "plt.title('model loss')\n",
    "plt.ylabel('loss')\n",
    "plt.xlabel('epoch')\n",
    "plt.legend(['train', 'val'], loc='upper left')\n",
    "plt.show()"
   ]
  },
  {
   "cell_type": "code",
   "execution_count": null,
   "id": "ca8ef5b8",
   "metadata": {},
   "outputs": [],
   "source": []
  },
  {
   "cell_type": "code",
   "execution_count": 58,
   "id": "786d4aed",
   "metadata": {},
   "outputs": [
    {
     "name": "stdout",
     "output_type": "stream",
     "text": [
      "Model: \"sequential_5\"\n",
      "_________________________________________________________________\n",
      " Layer (type)                Output Shape              Param #   \n",
      "=================================================================\n",
      " quantize_layer_5 (QuantizeL  (None, 32, 32, 3)        3         \n",
      " ayer)                                                           \n",
      "                                                                 \n",
      " quant_dense_13 (QuantizeWra  (None, 32, 32, 30)       123       \n",
      " pperV2)                                                         \n",
      "                                                                 \n",
      " quant_conv2d_14 (QuantizeWr  (None, 30, 30, 12)       3279      \n",
      " apperV2)                                                        \n",
      "                                                                 \n",
      " quant_max_pooling2d_10 (Qua  (None, 15, 15, 12)       1         \n",
      " ntizeWrapperV2)                                                 \n",
      "                                                                 \n",
      " quant_conv2d_15 (QuantizeWr  (None, 13, 13, 64)       7107      \n",
      " apperV2)                                                        \n",
      "                                                                 \n",
      " quant_conv2d_16 (QuantizeWr  (None, 11, 11, 128)      74115     \n",
      " apperV2)                                                        \n",
      "                                                                 \n",
      " quant_max_pooling2d_11 (Qua  (None, 5, 5, 128)        1         \n",
      " ntizeWrapperV2)                                                 \n",
      "                                                                 \n",
      " quant_conv2d_17 (QuantizeWr  (None, 3, 3, 256)        295683    \n",
      " apperV2)                                                        \n",
      "                                                                 \n",
      " quant_max_pooling2d_12 (Qua  (None, 1, 1, 256)        1         \n",
      " ntizeWrapperV2)                                                 \n",
      "                                                                 \n",
      " quant_flatten_6 (QuantizeWr  (None, 256)              1         \n",
      " apperV2)                                                        \n",
      "                                                                 \n",
      " quant_dense_14 (QuantizeWra  (None, 10)               2575      \n",
      " pperV2)                                                         \n",
      "                                                                 \n",
      "=================================================================\n",
      "Total params: 382,889\n",
      "Trainable params: 381,942\n",
      "Non-trainable params: 947\n",
      "_________________________________________________________________\n"
     ]
    }
   ],
   "source": [
    "model = quantize_annotate_model(tf.keras.Sequential([\n",
    "   \n",
    "    keras.layers.InputLayer( input_shape=(32, 32,3)),\n",
    "    #keras.layers.Reshape(target_shape=(32, 32, 3)),\n",
    "      # Pass in modified `QuantizeConfig` to modify this `Dense` layer.\n",
    "    quantize_annotate_layer(tf.keras.layers.Dense(30,), ModifiedDenseQuantizeConfig()),\n",
    "    \n",
    "    keras.layers.Conv2D(filters=12, kernel_size=(3, 3), activation='relu'),\n",
    "    keras.layers.MaxPooling2D(pool_size=(2, 2)),\n",
    "    tf.keras.layers.Conv2D(64,kernel_size=(3,3), activation=\"relu\"),\n",
    "    tf.keras.layers.Conv2D(128,kernel_size=(3,3), activation=\"relu\"),\n",
    "    tf.keras.layers.MaxPooling2D(pool_size=(2, 2)),\n",
    "    tf.keras.layers.Conv2D(256,kernel_size=(3,3), activation=\"relu\"),\n",
    "    tf.keras.layers.MaxPooling2D(pool_size=(2, 2)),\n",
    "    tf.keras.layers.Flatten(),\n",
    "    tf.keras.layers.Dense(10, activation=\"softmax\")\n",
    "    \n",
    "    \n",
    "       \n",
    "]))\n",
    "\n",
    "# `quantize_apply` requires mentioning `ModifiedDenseQuantizeConfig` with `quantize_scope`:\n",
    "with quantize_scope(\n",
    "  {'ModifiedDenseQuantizeConfig': ModifiedDenseQuantizeConfig}):\n",
    "  # Use `quantize_apply` to actually make the model quantization aware.\n",
    "  quant_aware_model_14 = tfmot.quantization.keras.quantize_apply(model)\n",
    "\n",
    "quant_aware_model_14.summary()"
   ]
  },
  {
   "cell_type": "code",
   "execution_count": 59,
   "id": "1bb2c7c9",
   "metadata": {},
   "outputs": [
    {
     "name": "stdout",
     "output_type": "stream",
     "text": [
      "Model: \"sequential_5\"\n",
      "_________________________________________________________________\n",
      " Layer (type)                Output Shape              Param #   \n",
      "=================================================================\n",
      " quantize_layer_5 (QuantizeL  (None, 32, 32, 3)        3         \n",
      " ayer)                                                           \n",
      "                                                                 \n",
      " quant_dense_13 (QuantizeWra  (None, 32, 32, 30)       123       \n",
      " pperV2)                                                         \n",
      "                                                                 \n",
      " quant_conv2d_14 (QuantizeWr  (None, 30, 30, 12)       3279      \n",
      " apperV2)                                                        \n",
      "                                                                 \n",
      " quant_max_pooling2d_10 (Qua  (None, 15, 15, 12)       1         \n",
      " ntizeWrapperV2)                                                 \n",
      "                                                                 \n",
      " quant_conv2d_15 (QuantizeWr  (None, 13, 13, 64)       7107      \n",
      " apperV2)                                                        \n",
      "                                                                 \n",
      " quant_conv2d_16 (QuantizeWr  (None, 11, 11, 128)      74115     \n",
      " apperV2)                                                        \n",
      "                                                                 \n",
      " quant_max_pooling2d_11 (Qua  (None, 5, 5, 128)        1         \n",
      " ntizeWrapperV2)                                                 \n",
      "                                                                 \n",
      " quant_conv2d_17 (QuantizeWr  (None, 3, 3, 256)        295683    \n",
      " apperV2)                                                        \n",
      "                                                                 \n",
      " quant_max_pooling2d_12 (Qua  (None, 1, 1, 256)        1         \n",
      " ntizeWrapperV2)                                                 \n",
      "                                                                 \n",
      " quant_flatten_6 (QuantizeWr  (None, 256)              1         \n",
      " apperV2)                                                        \n",
      "                                                                 \n",
      " quant_dense_14 (QuantizeWra  (None, 10)               2575      \n",
      " pperV2)                                                         \n",
      "                                                                 \n",
      "=================================================================\n",
      "Total params: 382,889\n",
      "Trainable params: 381,942\n",
      "Non-trainable params: 947\n",
      "_________________________________________________________________\n"
     ]
    }
   ],
   "source": [
    "# `quantize_model` requires a recompile.\n",
    "quant_aware_model_14.compile(optimizer='adam',\n",
    "              loss=tf.keras.losses.SparseCategoricalCrossentropy(from_logits=True),\n",
    "              metrics=['accuracy'])\n",
    "\n",
    "quant_aware_model_14.summary()"
   ]
  },
  {
   "cell_type": "code",
   "execution_count": 20,
   "id": "104fce23",
   "metadata": {},
   "outputs": [
    {
     "name": "stdout",
     "output_type": "stream",
     "text": [
      "Epoch 1/10\n",
      "782/782 [==============================] - 20s 24ms/step - loss: 1.6714 - accuracy: 0.3857\n",
      "Epoch 2/10\n",
      "782/782 [==============================] - 18s 23ms/step - loss: 1.2802 - accuracy: 0.5451\n",
      "Epoch 3/10\n",
      "782/782 [==============================] - 19s 24ms/step - loss: 1.0977 - accuracy: 0.6151\n",
      "Epoch 4/10\n",
      "782/782 [==============================] - 21s 27ms/step - loss: 0.9795 - accuracy: 0.6599\n",
      "Epoch 5/10\n",
      "782/782 [==============================] - 18s 24ms/step - loss: 0.8818 - accuracy: 0.6922\n",
      "Epoch 6/10\n",
      "782/782 [==============================] - 18s 23ms/step - loss: 0.7946 - accuracy: 0.7228\n",
      "Epoch 7/10\n",
      "782/782 [==============================] - 19s 24ms/step - loss: 0.7117 - accuracy: 0.7524\n",
      "Epoch 8/10\n",
      "782/782 [==============================] - 19s 24ms/step - loss: 0.6362 - accuracy: 0.7775\n",
      "Epoch 9/10\n",
      "782/782 [==============================] - 20s 26ms/step - loss: 0.5592 - accuracy: 0.8064\n",
      "Epoch 10/10\n",
      "782/782 [==============================] - 20s 25ms/step - loss: 0.4914 - accuracy: 0.8294\n"
     ]
    },
    {
     "data": {
      "text/plain": [
       "<keras.callbacks.History at 0x17eceada790>"
      ]
     },
     "execution_count": 20,
     "metadata": {},
     "output_type": "execute_result"
    }
   ],
   "source": [
    "quant_aware_model_14.fit(x_train, y_train,  batch_size=64, epochs=10)"
   ]
  },
  {
   "cell_type": "code",
   "execution_count": 21,
   "id": "d0ecc7c0",
   "metadata": {},
   "outputs": [
    {
     "name": "stdout",
     "output_type": "stream",
     "text": [
      "313/313 - 3s - loss: 1.1208 - accuracy: 0.6738 - 3s/epoch - 9ms/step\n"
     ]
    },
    {
     "data": {
      "text/plain": [
       "[1.120798945426941, 0.673799991607666]"
      ]
     },
     "execution_count": 21,
     "metadata": {},
     "output_type": "execute_result"
    }
   ],
   "source": [
    "quant_aware_model_14.evaluate(x_test,  y_test, verbose=2)"
   ]
  },
  {
   "cell_type": "code",
   "execution_count": 44,
   "id": "d109962c",
   "metadata": {},
   "outputs": [
    {
     "name": "stdout",
     "output_type": "stream",
     "text": [
      "You must install pydot (`pip install pydot`) and install graphviz (see instructions at https://graphviz.gitlab.io/download/) for plot_model to work.\n"
     ]
    }
   ],
   "source": [
    "plot_model(quant_aware_model_14, show_shapes=True, show_layer_names=True)"
   ]
  },
  {
   "cell_type": "code",
   "execution_count": 59,
   "id": "7f53b376",
   "metadata": {},
   "outputs": [
    {
     "data": {
      "image/png": "[encoded data removed]",
      "text/plain": [
       "<PIL.Image.Image image mode=RGBA size=382x207 at 0x1F04230DB80>"
      ]
     },
     "execution_count": 59,
     "metadata": {},
     "output_type": "execute_result"
    }
   ],
   "source": [
    "visualkeras.layered_view(quant_aware_model_14, legend=True)"
   ]
  },
  {
   "cell_type": "code",
   "execution_count": 60,
   "id": "22f4af2a",
   "metadata": {},
   "outputs": [
    {
     "name": "stdout",
     "output_type": "stream",
     "text": [
      "Epoch 1/5\n",
      "1407/1407 [==============================] - 32s 22ms/step - loss: 1.6085 - accuracy: 0.4104 - val_loss: 1.3422 - val_accuracy: 0.5140\n",
      "Epoch 2/5\n",
      "1407/1407 [==============================] - 30s 21ms/step - loss: 1.2331 - accuracy: 0.5645 - val_loss: 1.1815 - val_accuracy: 0.5796\n",
      "Epoch 3/5\n",
      "1407/1407 [==============================] - 30s 22ms/step - loss: 1.0552 - accuracy: 0.6304 - val_loss: 1.0641 - val_accuracy: 0.6228\n",
      "Epoch 4/5\n",
      "1407/1407 [==============================] - 30s 21ms/step - loss: 0.9264 - accuracy: 0.6769 - val_loss: 1.0319 - val_accuracy: 0.6434\n",
      "Epoch 5/5\n",
      "1407/1407 [==============================] - 30s 21ms/step - loss: 0.8094 - accuracy: 0.7182 - val_loss: 1.0097 - val_accuracy: 0.6684\n"
     ]
    },
    {
     "data": {
      "image/png": "[encoded data removed]",
      "text/plain": [
       "<Figure size 432x288 with 1 Axes>"
      ]
     },
     "metadata": {
      "needs_background": "light"
     },
     "output_type": "display_data"
    }
   ],
   "source": [
    "import keras\n",
    "from matplotlib import pyplot as plt\n",
    "\n",
    "history = quant_aware_model_14.fit(x_train, y_train, validation_split = 0.1, batch_size=32, epochs=5)\n",
    "plt.plot(history.history['accuracy'])\n",
    "plt.plot(history.history['val_accuracy'])\n",
    "plt.title('model accuracy')\n",
    "plt.ylabel('accuracy')\n",
    "plt.xlabel('epoch')\n",
    "plt.legend(['train', 'validation'], loc='upper left')\n",
    "plt.show()"
   ]
  },
  {
   "cell_type": "code",
   "execution_count": 61,
   "id": "67e894d1",
   "metadata": {},
   "outputs": [
    {
     "data": {
      "image/png": "[encoded data removed]",
      "text/plain": [
       "<Figure size 432x288 with 1 Axes>"
      ]
     },
     "metadata": {
      "needs_background": "light"
     },
     "output_type": "display_data"
    }
   ],
   "source": [
    "plt.plot(history.history['loss'])\n",
    "plt.plot(history.history['val_loss'])\n",
    "plt.title('model loss')\n",
    "plt.ylabel('loss')\n",
    "plt.xlabel('epoch')\n",
    "plt.legend(['train', 'val'], loc='upper left')\n",
    "plt.show()"
   ]
  },
  {
   "cell_type": "code",
   "execution_count": 63,
   "id": "14f10dee",
   "metadata": {},
   "outputs": [
    {
     "name": "stdout",
     "output_type": "stream",
     "text": [
      "Model: \"sequential_6\"\n",
      "_________________________________________________________________\n",
      " Layer (type)                Output Shape              Param #   \n",
      "=================================================================\n",
      " quantize_layer_6 (QuantizeL  (None, 32, 32, 3)        3         \n",
      " ayer)                                                           \n",
      "                                                                 \n",
      " quant_dense_15 (QuantizeWra  (None, 32, 32, 30)       123       \n",
      " pperV2)                                                         \n",
      "                                                                 \n",
      " quant_conv2d_18 (QuantizeWr  (None, 30, 30, 12)       3279      \n",
      " apperV2)                                                        \n",
      "                                                                 \n",
      " quant_max_pooling2d_13 (Qua  (None, 15, 15, 12)       1         \n",
      " ntizeWrapperV2)                                                 \n",
      "                                                                 \n",
      " quant_flatten_7 (QuantizeWr  (None, 2700)             1         \n",
      " apperV2)                                                        \n",
      "                                                                 \n",
      " quant_dense_16 (QuantizeWra  (None, 10)               27015     \n",
      " pperV2)                                                         \n",
      "                                                                 \n",
      "=================================================================\n",
      "Total params: 30,422\n",
      "Trainable params: 30,382\n",
      "Non-trainable params: 40\n",
      "_________________________________________________________________\n"
     ]
    }
   ],
   "source": [
    "model = quantize_annotate_model(tf.keras.Sequential([\n",
    "   \n",
    "    keras.layers.InputLayer( input_shape=(32, 32,3)),\n",
    "    #keras.layers.Reshape(target_shape=(32, 32, 3)),\n",
    "      # Pass in modified `QuantizeConfig` to modify this `Dense` layer.\n",
    "    quantize_annotate_layer(tf.keras.layers.Dense(30,), ModifiedDenseQuantizeConfig()),\n",
    "    \n",
    "    keras.layers.Conv2D(filters=12, kernel_size=(3, 3), activation='relu'),\n",
    "    keras.layers.MaxPooling2D(pool_size=(2, 2)),\n",
    "    tf.keras.layers.Flatten(),\n",
    "    tf.keras.layers.Dense(10, activation=\"softmax\")\n",
    "    \n",
    "    \n",
    "       \n",
    "]))\n",
    "\n",
    "# `quantize_apply` requires mentioning `ModifiedDenseQuantizeConfig` with `quantize_scope`:\n",
    "with quantize_scope(\n",
    "  {'ModifiedDenseQuantizeConfig': ModifiedDenseQuantizeConfig}):\n",
    "  # Use `quantize_apply` to actually make the model quantization aware.\n",
    "  quant_aware_model_15 = tfmot.quantization.keras.quantize_apply(model)\n",
    "\n",
    "quant_aware_model_15.summary()"
   ]
  },
  {
   "cell_type": "code",
   "execution_count": 64,
   "id": "a2fc02cc",
   "metadata": {},
   "outputs": [
    {
     "name": "stdout",
     "output_type": "stream",
     "text": [
      "Model: \"sequential_6\"\n",
      "_________________________________________________________________\n",
      " Layer (type)                Output Shape              Param #   \n",
      "=================================================================\n",
      " quantize_layer_6 (QuantizeL  (None, 32, 32, 3)        3         \n",
      " ayer)                                                           \n",
      "                                                                 \n",
      " quant_dense_15 (QuantizeWra  (None, 32, 32, 30)       123       \n",
      " pperV2)                                                         \n",
      "                                                                 \n",
      " quant_conv2d_18 (QuantizeWr  (None, 30, 30, 12)       3279      \n",
      " apperV2)                                                        \n",
      "                                                                 \n",
      " quant_max_pooling2d_13 (Qua  (None, 15, 15, 12)       1         \n",
      " ntizeWrapperV2)                                                 \n",
      "                                                                 \n",
      " quant_flatten_7 (QuantizeWr  (None, 2700)             1         \n",
      " apperV2)                                                        \n",
      "                                                                 \n",
      " quant_dense_16 (QuantizeWra  (None, 10)               27015     \n",
      " pperV2)                                                         \n",
      "                                                                 \n",
      "=================================================================\n",
      "Total params: 30,422\n",
      "Trainable params: 30,382\n",
      "Non-trainable params: 40\n",
      "_________________________________________________________________\n"
     ]
    }
   ],
   "source": [
    "# `quantize_model` requires a recompile.\n",
    "quant_aware_model_15.compile(optimizer='adam',\n",
    "              loss=tf.keras.losses.SparseCategoricalCrossentropy(from_logits=True),\n",
    "              metrics=['accuracy'])\n",
    "\n",
    "quant_aware_model_15.summary()"
   ]
  },
  {
   "cell_type": "code",
   "execution_count": 51,
   "id": "270a75b5",
   "metadata": {},
   "outputs": [
    {
     "name": "stdout",
     "output_type": "stream",
     "text": [
      "Epoch 1/5\n",
      "782/782 [==============================] - 7s 8ms/step - loss: 1.3812 - accuracy: 0.5172\n",
      "Epoch 2/5\n",
      "782/782 [==============================] - 7s 8ms/step - loss: 1.2500 - accuracy: 0.5628\n",
      "Epoch 3/5\n",
      "782/782 [==============================] - 7s 8ms/step - loss: 1.1884 - accuracy: 0.5869\n",
      "Epoch 4/5\n",
      "782/782 [==============================] - 6s 8ms/step - loss: 1.1482 - accuracy: 0.6016\n",
      "Epoch 5/5\n",
      "782/782 [==============================] - 6s 8ms/step - loss: 1.1181 - accuracy: 0.6083\n"
     ]
    },
    {
     "data": {
      "text/plain": [
       "<keras.callbacks.History at 0x17ed4cd5ac0>"
      ]
     },
     "execution_count": 51,
     "metadata": {},
     "output_type": "execute_result"
    }
   ],
   "source": [
    "quant_aware_model_15.fit(x_train, y_train,  batch_size=64, epochs=5)"
   ]
  },
  {
   "cell_type": "code",
   "execution_count": 52,
   "id": "fa54b879",
   "metadata": {},
   "outputs": [
    {
     "name": "stdout",
     "output_type": "stream",
     "text": [
      "313/313 - 1s - loss: 1.2082 - accuracy: 0.5841 - 1s/epoch - 4ms/step\n"
     ]
    },
    {
     "data": {
      "text/plain": [
       "[1.2082078456878662, 0.5841000080108643]"
      ]
     },
     "execution_count": 52,
     "metadata": {},
     "output_type": "execute_result"
    }
   ],
   "source": [
    "quant_aware_model_15.evaluate(x_test,  y_test, verbose=2)"
   ]
  },
  {
   "cell_type": "code",
   "execution_count": 53,
   "id": "789d20ac",
   "metadata": {},
   "outputs": [
    {
     "name": "stdout",
     "output_type": "stream",
     "text": [
      "You must install pydot (`pip install pydot`) and install graphviz (see instructions at https://graphviz.gitlab.io/download/) for plot_model to work.\n"
     ]
    }
   ],
   "source": [
    "plot_model(quant_aware_model_15, show_shapes=True, show_layer_names=True)"
   ]
  },
  {
   "cell_type": "code",
   "execution_count": 38,
   "id": "ae198ef4",
   "metadata": {},
   "outputs": [
    {
     "name": "stdout",
     "output_type": "stream",
     "text": [
      "Requirement already satisfied: pydot in c:\\users\\meskat jahan\\appdata\\roaming\\python\\python39\\site-packages (1.4.2)\n",
      "Requirement already satisfied: pyparsing>=2.1.4 in c:\\programdata\\anaconda3\\lib\\site-packages (from pydot) (3.0.4)\n",
      "Requirement already satisfied: graphviz in c:\\users\\meskat jahan\\appdata\\roaming\\python\\python39\\site-packages (0.20.1)\n"
     ]
    }
   ],
   "source": [
    "!pip install pydot --user\n",
    "!pip install graphviz  --user"
   ]
  },
  {
   "cell_type": "code",
   "execution_count": 64,
   "id": "2c7657e3",
   "metadata": {},
   "outputs": [
    {
     "data": {
      "image/png": "[encoded data removed]",
      "text/plain": [
       "<PIL.Image.Image image mode=RGBA size=465x207 at 0x1F04453F280>"
      ]
     },
     "execution_count": 64,
     "metadata": {},
     "output_type": "execute_result"
    }
   ],
   "source": [
    "visualkeras.layered_view(quant_aware_model_15, legend=True)"
   ]
  },
  {
   "cell_type": "code",
   "execution_count": 69,
   "id": "6c4790a8",
   "metadata": {},
   "outputs": [
    {
     "name": "stdout",
     "output_type": "stream",
     "text": [
      "Epoch 1/5\n",
      "1407/1407 [==============================] - 11s 8ms/step - loss: 1.3816 - accuracy: 0.5127 - val_loss: 1.2962 - val_accuracy: 0.5462\n",
      "Epoch 2/5\n",
      "1407/1407 [==============================] - 11s 8ms/step - loss: 1.2476 - accuracy: 0.5610 - val_loss: 1.2453 - val_accuracy: 0.5616\n",
      "Epoch 3/5\n",
      "1407/1407 [==============================] - 12s 8ms/step - loss: 1.1956 - accuracy: 0.5804 - val_loss: 1.2311 - val_accuracy: 0.5666\n",
      "Epoch 4/5\n",
      "1407/1407 [==============================] - 12s 8ms/step - loss: 1.1602 - accuracy: 0.5957 - val_loss: 1.2162 - val_accuracy: 0.5816\n",
      "Epoch 5/5\n",
      "1407/1407 [==============================] - 12s 8ms/step - loss: 1.1267 - accuracy: 0.6069 - val_loss: 1.1850 - val_accuracy: 0.5934\n"
     ]
    },
    {
     "data": {
      "image/png": "[encoded data removed]",
      "text/plain": [
       "<Figure size 432x288 with 1 Axes>"
      ]
     },
     "metadata": {
      "needs_background": "light"
     },
     "output_type": "display_data"
    }
   ],
   "source": [
    "import keras\n",
    "from matplotlib import pyplot as plt\n",
    "\n",
    "history = quant_aware_model_15.fit(x_train, y_train, validation_split = 0.1, batch_size=32, epochs=5)\n",
    "plt.plot(history.history['accuracy'])\n",
    "plt.plot(history.history['val_accuracy'])\n",
    "plt.title('model accuracy')\n",
    "plt.ylabel('accuracy')\n",
    "plt.xlabel('epoch')\n",
    "plt.legend(['train', 'validation'], loc='upper left')\n",
    "plt.show()"
   ]
  },
  {
   "cell_type": "code",
   "execution_count": 70,
   "id": "efbdfc69",
   "metadata": {},
   "outputs": [
    {
     "data": {
      "image/png": "[encoded data removed]",
      "text/plain": [
       "<Figure size 432x288 with 1 Axes>"
      ]
     },
     "metadata": {
      "needs_background": "light"
     },
     "output_type": "display_data"
    }
   ],
   "source": [
    "plt.plot(history.history['loss'])\n",
    "plt.plot(history.history['val_loss'])\n",
    "plt.title('model loss')\n",
    "plt.ylabel('loss')\n",
    "plt.xlabel('epoch')\n",
    "plt.legend(['train', 'val'], loc='upper left')\n",
    "plt.show()"
   ]
  },
  {
   "cell_type": "code",
   "execution_count": 71,
   "id": "437230a6",
   "metadata": {},
   "outputs": [],
   "source": [
    "cifar = tf.keras.datasets.cifar10.load_data()\n",
    "(train_images, train_labels), (test_images, test_labels) = keras.datasets.cifar10.load_data()"
   ]
  },
  {
   "cell_type": "code",
   "execution_count": 128,
   "id": "aa152315",
   "metadata": {},
   "outputs": [
    {
     "ename": "InternalError",
     "evalue": "Failed copying input tensor from /job:localhost/replica:0/task:0/device:CPU:0 to /job:localhost/replica:0/task:0/device:GPU:0 in order to run _EagerConst: Dst tensor is not initialized.",
     "output_type": "error",
     "traceback": [
      "\u001b[1;31m---------------------------------------------------------------------------\u001b[0m",
      "\u001b[1;31mInternalError\u001b[0m                             Traceback (most recent call last)",
      "Input \u001b[1;32mIn [128]\u001b[0m, in \u001b[0;36m<cell line: 1>\u001b[1;34m()\u001b[0m\n\u001b[1;32m----> 1\u001b[0m _, baseline_model_accuracy \u001b[38;5;241m=\u001b[39m \u001b[43mmodel10\u001b[49m\u001b[38;5;241;43m.\u001b[39;49m\u001b[43mevaluate\u001b[49m\u001b[43m(\u001b[49m\n\u001b[0;32m      2\u001b[0m \u001b[43m    \u001b[49m\u001b[43mx_test\u001b[49m\u001b[43m,\u001b[49m\u001b[43m \u001b[49m\u001b[43my_test\u001b[49m\u001b[43m,\u001b[49m\u001b[43m \u001b[49m\u001b[43mverbose\u001b[49m\u001b[38;5;241;43m=\u001b[39;49m\u001b[38;5;241;43m2\u001b[39;49m\u001b[43m)\u001b[49m\n\u001b[0;32m      4\u001b[0m _, quant_aware_model_accuracy \u001b[38;5;241m=\u001b[39m quant_aware_model_12\u001b[38;5;241m.\u001b[39mevaluate(\n\u001b[0;32m      5\u001b[0m    x_test, y_test, verbose\u001b[38;5;241m=\u001b[39m\u001b[38;5;241m2\u001b[39m)\n\u001b[0;32m      7\u001b[0m \u001b[38;5;28mprint\u001b[39m(\u001b[38;5;124m'\u001b[39m\u001b[38;5;124mBaseline test accuracy:\u001b[39m\u001b[38;5;124m'\u001b[39m, baseline_model_accuracy)\n",
      "File \u001b[1;32m~\\AppData\\Roaming\\Python\\Python39\\site-packages\\keras\\utils\\traceback_utils.py:70\u001b[0m, in \u001b[0;36mfilter_traceback.<locals>.error_handler\u001b[1;34m(*args, **kwargs)\u001b[0m\n\u001b[0;32m     67\u001b[0m     filtered_tb \u001b[38;5;241m=\u001b[39m _process_traceback_frames(e\u001b[38;5;241m.\u001b[39m__traceback__)\n\u001b[0;32m     68\u001b[0m     \u001b[38;5;66;03m# To get the full stack trace, call:\u001b[39;00m\n\u001b[0;32m     69\u001b[0m     \u001b[38;5;66;03m# `tf.debugging.disable_traceback_filtering()`\u001b[39;00m\n\u001b[1;32m---> 70\u001b[0m     \u001b[38;5;28;01mraise\u001b[39;00m e\u001b[38;5;241m.\u001b[39mwith_traceback(filtered_tb) \u001b[38;5;28;01mfrom\u001b[39;00m \u001b[38;5;28mNone\u001b[39m\n\u001b[0;32m     71\u001b[0m \u001b[38;5;28;01mfinally\u001b[39;00m:\n\u001b[0;32m     72\u001b[0m     \u001b[38;5;28;01mdel\u001b[39;00m filtered_tb\n",
      "File \u001b[1;32m~\\AppData\\Roaming\\Python\\Python39\\site-packages\\tensorflow\\python\\framework\\constant_op.py:102\u001b[0m, in \u001b[0;36mconvert_to_eager_tensor\u001b[1;34m(value, ctx, dtype)\u001b[0m\n\u001b[0;32m    100\u001b[0m     dtype \u001b[38;5;241m=\u001b[39m dtypes\u001b[38;5;241m.\u001b[39mas_dtype(dtype)\u001b[38;5;241m.\u001b[39mas_datatype_enum\n\u001b[0;32m    101\u001b[0m ctx\u001b[38;5;241m.\u001b[39mensure_initialized()\n\u001b[1;32m--> 102\u001b[0m \u001b[38;5;28;01mreturn\u001b[39;00m \u001b[43mops\u001b[49m\u001b[38;5;241;43m.\u001b[39;49m\u001b[43mEagerTensor\u001b[49m\u001b[43m(\u001b[49m\u001b[43mvalue\u001b[49m\u001b[43m,\u001b[49m\u001b[43m \u001b[49m\u001b[43mctx\u001b[49m\u001b[38;5;241;43m.\u001b[39;49m\u001b[43mdevice_name\u001b[49m\u001b[43m,\u001b[49m\u001b[43m \u001b[49m\u001b[43mdtype\u001b[49m\u001b[43m)\u001b[49m\n",
      "\u001b[1;31mInternalError\u001b[0m: Failed copying input tensor from /job:localhost/replica:0/task:0/device:CPU:0 to /job:localhost/replica:0/task:0/device:GPU:0 in order to run _EagerConst: Dst tensor is not initialized."
     ]
    }
   ],
   "source": [
    "_, baseline_model_accuracy = model10.evaluate(\n",
    "    x_test, y_test, verbose=2)\n",
    "\n",
    "_, quant_aware_model_accuracy = quant_aware_model_12.evaluate(\n",
    "   x_test, y_test, verbose=2)\n",
    "\n",
    "print('Baseline test accuracy:', baseline_model_accuracy)\n",
    "print('Quantize test accuracy:', quant_aware_model_accuracy)"
   ]
  },
  {
   "cell_type": "code",
   "execution_count": null,
   "id": "44537dce",
   "metadata": {},
   "outputs": [],
   "source": [
    "converter = tf.lite.TFLiteConverter.from_keras_model(quant_aware_model)\n",
    "\n",
    "\n",
    "converter.optimizations = [tf.lite.Optimize.DEFAULT]\n",
    "quantized_tflite_model20 = converter.convert()"
   ]
  },
  {
   "cell_type": "code",
   "execution_count": null,
   "id": "fde3a880",
   "metadata": {},
   "outputs": [],
   "source": [
    "import numpy as np\n",
    "\n",
    "def evaluate_model(interpreter):\n",
    "  input_index = interpreter.get_input_details()[0][\"index\"]\n",
    "  output_index = interpreter.get_output_details()[0][\"index\"]\n",
    "\n",
    "  # Run predictions on every image in the \"test\" dataset.\n",
    "  prediction_digits = []\n",
    "  for i, test_image in enumerate(test_images):\n",
    "    if i % 1000 == 0:\n",
    "      print('Evaluated on {n} results so far.'.format(n=i))\n",
    "    # Pre-processing: add batch dimension and convert to float32 to match with\n",
    "    # the model's input data format.\n",
    "    test_image = np.expand_dims(test_image, axis=0).astype(np.float32)\n",
    "    interpreter.set_tensor(input_index, test_image)\n",
    "\n",
    "    # Run inference.\n",
    "    interpreter.invoke()\n",
    "\n",
    "    # Post-processing: remove batch dimension and find the digit with highest\n",
    "    # probability.\n",
    "    output = interpreter.tensor(output_index)\n",
    "    digit = np.argmax(output()[0])\n",
    "    prediction_digits.append(digit)\n",
    "\n",
    "  print('\\n')\n",
    "  # Compare prediction results with ground truth labels to calculate accuracy.\n",
    "  prediction_digits = np.array(prediction_digits)\n",
    "  accuracy = (prediction_digits == test_labels).mean()\n",
    "  return accuracy"
   ]
  },
  {
   "cell_type": "code",
   "execution_count": null,
   "id": "f8eec64d",
   "metadata": {},
   "outputs": [],
   "source": [
    "interpreter = tf.lite.Interpreter(model_content=quantized_tflite_model20)\n",
    "interpreter.allocate_tensors()\n",
    "\n",
    "test_accuracy = evaluate_model(interpreter)\n",
    "\n",
    "print('Quant TFLite test_accuracy:', test_accuracy)\n",
    "print('Quant TF test accuracy:', quant_aware_model_accuracy)"
   ]
  },
  {
   "cell_type": "code",
   "execution_count": null,
   "id": "8012279e",
   "metadata": {},
   "outputs": [],
   "source": [
    "# Create float TFLite model.\n",
    "float_converter = tf.lite.TFLiteConverter.from_keras_model(base_model)\n",
    "float_tflite_model21 = float_converter.convert()\n",
    "\n",
    "\n",
    "# Measure sizes of models.\n",
    "_, float_file = tempfile.mkstemp('.tflite')\n",
    "_, quant_file = tempfile.mkstemp('.tflite')\n",
    "\n",
    "with open(quant_file, 'wb') as f:\n",
    "  f.write(quantized_tflite_model20)\n",
    "\n",
    "with open(float_file, 'wb') as f:\n",
    "  f.write(float_tflite_model21)\n",
    "\n",
    "print(\"Float model in Mb:\", os.path.getsize(float_file) / float(2**20))\n",
    "print(\"Quantized model in Mb:\", os.path.getsize(quant_file) / float(2**20))"
   ]
  },
  {
   "cell_type": "code",
   "execution_count": null,
   "id": "5735a007",
   "metadata": {},
   "outputs": [],
   "source": []
  }
 ],
 "metadata": {
  "kernelspec": {
   "display_name": "gpu2",
   "language": "python",
   "name": "gpu2"
  },
  "language_info": {
   "codemirror_mode": {
    "name": "ipython",
    "version": 3
   },
   "file_extension": ".py",
   "mimetype": "text/x-python",
   "name": "python",
   "nbconvert_exporter": "python",
   "pygments_lexer": "ipython3",
   "version": "3.9.12"
  }
 },
 "nbformat": 4,
 "nbformat_minor": 5
}
